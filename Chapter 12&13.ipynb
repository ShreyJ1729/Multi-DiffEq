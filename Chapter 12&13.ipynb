{
 "cells": [
  {
   "cell_type": "code",
   "execution_count": 1,
   "metadata": {},
   "outputs": [],
   "source": [
    "from sympy import *\n",
    "from sympy.physics.vector import ReferenceFrame, cross, dot\n",
    "import numpy as np\n",
    "init_printing()\n",
    "x, t = symbols(\"x t\")"
   ]
  },
  {
   "cell_type": "code",
   "execution_count": 2,
   "metadata": {},
   "outputs": [
    {
     "data": {
      "text/plain": [
       "'r1: '"
      ]
     },
     "metadata": {},
     "output_type": "display_data"
    },
    {
     "data": {
      "image/png": "[encoded data removed]",
      "text/latex": [
       "$\\displaystyle \\mathbf{\\hat{c}_x} + 2 t\\mathbf{\\hat{c}_y} + 2\\mathbf{\\hat{c}_z}$"
      ],
      "text/plain": [
       "c_x + 2⋅t c_y + 2 c_z"
      ]
     },
     "metadata": {},
     "output_type": "display_data"
    },
    {
     "data": {
      "text/plain": [
       "'r2: '"
      ]
     },
     "metadata": {},
     "output_type": "display_data"
    },
    {
     "data": {
      "image/png": "[encoded data removed]",
      "text/latex": [
       "$\\displaystyle 2\\mathbf{\\hat{c}_y}$"
      ],
      "text/plain": [
       "2 c_y"
      ]
     },
     "metadata": {},
     "output_type": "display_data"
    },
    {
     "data": {
      "text/plain": [
       "'r3: '"
      ]
     },
     "metadata": {},
     "output_type": "display_data"
    },
    {
     "data": {
      "image/png": "[encoded data removed]",
      "text/latex": [
       "$\\displaystyle 0$"
      ],
      "text/plain": [
       "0"
      ]
     },
     "metadata": {},
     "output_type": "display_data"
    },
    {
     "data": {
      "text/plain": [
       "'r1 norm: '"
      ]
     },
     "metadata": {},
     "output_type": "display_data"
    },
    {
     "data": {
      "image/png": "[encoded data removed]",
      "text/latex": [
       "$\\displaystyle \\frac{1}{\\sqrt{4 t^{2} + 5}}\\mathbf{\\hat{c}_x} + \\frac{2 t}{\\sqrt{4 t^{2} + 5}}\\mathbf{\\hat{c}_y} + \\frac{2}{\\sqrt{4 t^{2} + 5}}\\mathbf{\\hat{c}_z}$"
      ],
      "text/plain": [
       "      1                  2⋅t                  2\n",
       "───────────── c_x + ───────────── c_y + ───────────── c_z\n",
       "   __________          __________          __________\n",
       "  ╱    2              ╱    2              ╱    2\n",
       "╲╱  4⋅t  + 5        ╲╱  4⋅t  + 5        ╲╱  4⋅t  + 5"
      ]
     },
     "metadata": {},
     "output_type": "display_data"
    },
    {
     "data": {
      "text/plain": [
       "'r2 norm: '"
      ]
     },
     "metadata": {},
     "output_type": "display_data"
    },
    {
     "data": {
      "image/png": "[encoded data removed]",
      "text/latex": [
       "$\\displaystyle \\mathbf{\\hat{c}_y}$"
      ],
      "text/plain": [
       "c_y"
      ]
     },
     "metadata": {},
     "output_type": "display_data"
    },
    {
     "data": {
      "text/plain": [
       "'r3 norm: '"
      ]
     },
     "metadata": {},
     "output_type": "display_data"
    },
    {
     "data": {
      "image/png": "[encoded data removed]",
      "text/latex": [
       "$\\displaystyle 0$"
      ],
      "text/plain": [
       "0"
      ]
     },
     "metadata": {},
     "output_type": "display_data"
    }
   ],
   "source": [
    "C = ReferenceFrame(\"C\")\n",
    "r = np.dot([t, t**2, 2*t], [C.x, C.y, C.z])\n",
    "r1 = r.diff(t, C)\n",
    "r2 = r1.diff(t, C)\n",
    "r3 = r2.diff(t, C)\n",
    "display(\"r1: \", r1)\n",
    "display(\"r2: \", r2)\n",
    "display(\"r3: \", r3)\n",
    "display(\"r1 norm: \", r1.normalize())\n",
    "display(\"r2 norm: \", r2.normalize())\n",
    "display(\"r3 norm: \", r3.normalize())"
   ]
  },
  {
   "cell_type": "code",
   "execution_count": 3,
   "metadata": {},
   "outputs": [
    {
     "data": {
      "text/plain": [
       "'Tangent: '"
      ]
     },
     "metadata": {},
     "output_type": "display_data"
    },
    {
     "data": {
      "image/png": "[encoded data removed]",
      "text/latex": [
       "$\\displaystyle \\frac{1}{\\sqrt{4 t^{2} + 5}}\\mathbf{\\hat{c}_x} + \\frac{2 t}{\\sqrt{4 t^{2} + 5}}\\mathbf{\\hat{c}_y} + \\frac{2}{\\sqrt{4 t^{2} + 5}}\\mathbf{\\hat{c}_z}$"
      ],
      "text/plain": [
       "      1                  2⋅t                  2\n",
       "───────────── c_x + ───────────── c_y + ───────────── c_z\n",
       "   __________          __________          __________\n",
       "  ╱    2              ╱    2              ╱    2\n",
       "╲╱  4⋅t  + 5        ╲╱  4⋅t  + 5        ╲╱  4⋅t  + 5"
      ]
     },
     "metadata": {},
     "output_type": "display_data"
    },
    {
     "data": {
      "text/plain": [
       "'Curvature: '"
      ]
     },
     "metadata": {},
     "output_type": "display_data"
    },
    {
     "data": {
      "image/png": "[encoded data removed]",
      "text/latex": [
       "$\\displaystyle \\frac{2 \\sqrt{5}}{\\left(4 t^{2} + 5\\right)^{\\frac{3}{2}}}$"
      ],
      "text/plain": [
       "     2⋅√5    \n",
       "─────────────\n",
       "          3/2\n",
       "⎛   2    ⎞   \n",
       "⎝4⋅t  + 5⎠   "
      ]
     },
     "metadata": {},
     "output_type": "display_data"
    }
   ],
   "source": [
    "T = r1.normalize()\n",
    "display(\"Tangent: \", T)\n",
    "kappa = cross(r1, r2).magnitude()/r1.magnitude()**3\n",
    "display(\"Curvature: \", kappa)"
   ]
  },
  {
   "cell_type": "code",
   "execution_count": 4,
   "metadata": {},
   "outputs": [
    {
     "data": {
      "text/plain": [
       "'Normal:'"
      ]
     },
     "metadata": {},
     "output_type": "display_data"
    },
    {
     "data": {
      "image/png": "[encoded data removed]",
      "text/latex": [
       "$\\displaystyle -  \\frac{4 t}{\\left(4 t^{2} + 5\\right)^{\\frac{3}{2}} \\sqrt{\\frac{80 t^{2}}{\\left(4 t^{2} + 5\\right)^{3}} + \\left(- \\frac{8 t^{2}}{\\left(4 t^{2} + 5\\right)^{\\frac{3}{2}}} + \\frac{2}{\\sqrt{4 t^{2} + 5}}\\right)^{2}}}\\mathbf{\\hat{c}_x} + \\frac{- \\frac{8 t^{2}}{\\left(4 t^{2} + 5\\right)^{\\frac{3}{2}}} + \\frac{2}{\\sqrt{4 t^{2} + 5}}}{\\sqrt{\\frac{80 t^{2}}{\\left(4 t^{2} + 5\\right)^{3}} + \\left(- \\frac{8 t^{2}}{\\left(4 t^{2} + 5\\right)^{\\frac{3}{2}}} + \\frac{2}{\\sqrt{4 t^{2} + 5}}\\right)^{2}}}\\mathbf{\\hat{c}_y} -  \\frac{8 t}{\\left(4 t^{2} + 5\\right)^{\\frac{3}{2}} \\sqrt{\\frac{80 t^{2}}{\\left(4 t^{2} + 5\\right)^{3}} + \\left(- \\frac{8 t^{2}}{\\left(4 t^{2} + 5\\right)^{\\frac{3}{2}}} + \\frac{2}{\\sqrt{4 t^{2} + 5}}\\right)^{2}}}\\mathbf{\\hat{c}_z}$"
      ],
      "text/plain": [
       "\n",
       "\n",
       "\n",
       "\n",
       "\n",
       "                                 -4⋅t\n",
       "──────────────────────────────────────────────────────────────────────── c_x +\n",
       "                      __________________________________________________\n",
       "                     ╱                                                2\n",
       "          3/2       ╱         2      ⎛          2                    ⎞\n",
       "⎛   2    ⎞         ╱      80⋅t       ⎜       8⋅t              2      ⎟\n",
       "⎝4⋅t  + 5⎠   ⋅    ╱    ─────────── + ⎜- ───────────── + ─────────────⎟\n",
       "                 ╱               3   ⎜            3/2      __________⎟\n",
       "                ╱      ⎛   2    ⎞    ⎜  ⎛   2    ⎞        ╱    2     ⎟\n",
       "              ╲╱       ⎝4⋅t  + 5⎠    ⎝  ⎝4⋅t  + 5⎠      ╲╱  4⋅t  + 5 ⎠\n",
       "\n",
       "                        2\n",
       "                     8⋅t              2\n",
       "              - ───────────── + ─────────────\n",
       "                          3/2      __________\n",
       "                ⎛   2    ⎞        ╱    2\n",
       "                ⎝4⋅t  + 5⎠      ╲╱  4⋅t  + 5\n",
       " ────────────────────────────────────────────────────────── c_y + ────────────\n",
       "         __________________________________________________\n",
       "        ╱                                                2\n",
       "       ╱         2      ⎛          2                    ⎞                   3/\n",
       "      ╱      80⋅t       ⎜       8⋅t              2      ⎟         ⎛   2    ⎞\n",
       "     ╱    ─────────── + ⎜- ───────────── + ─────────────⎟         ⎝4⋅t  + 5⎠\n",
       "    ╱               3   ⎜            3/2      __________⎟\n",
       "   ╱      ⎛   2    ⎞    ⎜  ⎛   2    ⎞        ╱    2     ⎟\n",
       " ╲╱       ⎝4⋅t  + 5⎠    ⎝  ⎝4⋅t  + 5⎠      ╲╱  4⋅t  + 5 ⎠\n",
       "\n",
       "\n",
       "\n",
       "\n",
       "\n",
       "\n",
       "                     -8⋅t\n",
       "──────────────────────────────────────────────────────────── c_z\n",
       "          __________________________________________________\n",
       "         ╱                                                2\n",
       "2       ╱         2      ⎛          2                    ⎞\n",
       "       ╱      80⋅t       ⎜       8⋅t              2      ⎟\n",
       " ⋅    ╱    ─────────── + ⎜- ───────────── + ─────────────⎟\n",
       "     ╱               3   ⎜            3/2      __________⎟\n",
       "    ╱      ⎛   2    ⎞    ⎜  ⎛   2    ⎞        ╱    2     ⎟\n",
       "  ╲╱       ⎝4⋅t  + 5⎠    ⎝  ⎝4⋅t  + 5⎠      ╲╱  4⋅t  + 5 ⎠"
      ]
     },
     "metadata": {},
     "output_type": "display_data"
    }
   ],
   "source": [
    "N = T.diff(t, C).normalize()\n",
    "display(\"Normal:\", N)"
   ]
  },
  {
   "cell_type": "code",
   "execution_count": 63,
   "metadata": {},
   "outputs": [
    {
     "data": {
      "image/png": "[encoded data removed]",
      "text/latex": [
       "$\\displaystyle \\frac{\\sqrt{5}}{5}\\mathbf{\\hat{c}_x} -  \\frac{2 \\sqrt{5}}{5}\\mathbf{\\hat{c}_y}$"
      ],
      "text/plain": [
       "√5       -2⋅√5\n",
       "── c_x + ────── c_y\n",
       "5          5"
      ]
     },
     "metadata": {},
     "output_type": "display_data"
    }
   ],
   "source": [
    "display(T.subs({t:pi/4}))"
   ]
  },
  {
   "cell_type": "code",
   "execution_count": 16,
   "metadata": {},
   "outputs": [],
   "source": [
    "r = np.dot([4+5*t, 3-2*t, 47-2*t], [C.x, C.y, C.z])"
   ]
  },
  {
   "cell_type": "code",
   "execution_count": 6,
   "metadata": {},
   "outputs": [
    {
     "data": {
      "image/png": "[encoded data removed]",
      "text/latex": [
       "$\\displaystyle \\mathbf{\\hat{c}_x} + 2 t\\mathbf{\\hat{c}_y} + 2\\mathbf{\\hat{c}_z}$"
      ],
      "text/plain": [
       "c_x + 2⋅t c_y + 2 c_z"
      ]
     },
     "metadata": {},
     "output_type": "display_data"
    }
   ],
   "source": [
    "r1 = r.diff(t, C)\n",
    "display(r1)"
   ]
  },
  {
   "cell_type": "code",
   "execution_count": 7,
   "metadata": {},
   "outputs": [
    {
     "data": {
      "image/png": "[encoded data removed]",
      "text/latex": [
       "$\\displaystyle \\sqrt[4]{4 t^{2} + 5}$"
      ],
      "text/plain": [
       "   __________\n",
       "4 ╱    2     \n",
       "╲╱  4⋅t  + 5 "
      ]
     },
     "metadata": {},
     "output_type": "display_data"
    }
   ],
   "source": [
    "r1 = sqrt(r1.magnitude())\n",
    "display(r1)"
   ]
  },
  {
   "cell_type": "code",
   "execution_count": 8,
   "metadata": {},
   "outputs": [
    {
     "data": {
      "text/latex": [
       "$\\displaystyle - \\sqrt[4]{5} {{}_{2}F_{1}\\left(\\begin{matrix} - \\frac{1}{4}, \\frac{1}{2} \\\\ \\frac{3}{2} \\end{matrix}\\middle| {- \\frac{4}{5}} \\right)} + 3 \\sqrt[4]{5} {{}_{2}F_{1}\\left(\\begin{matrix} - \\frac{1}{4}, \\frac{1}{2} \\\\ \\frac{3}{2} \\end{matrix}\\middle| {\\frac{36 e^{i \\pi}}{5}} \\right)}$"
      ],
      "text/plain": [
       "                                               ⎛          │     ⅈ⋅π⎞\n",
       "  4 ___  ┌─  ⎛-1/4, 1/2 │     ⎞     4 ___  ┌─  ⎜-1/4, 1/2 │ 36⋅ℯ   ⎟\n",
       "- ╲╱ 5 ⋅ ├─  ⎜          │ -4/5⎟ + 3⋅╲╱ 5 ⋅ ├─  ⎜          │ ───────⎟\n",
       "        2╵ 1 ⎝   3/2    │     ⎠           2╵ 1 ⎝   3/2    │    5   ⎠"
      ]
     },
     "execution_count": 8,
     "metadata": {},
     "output_type": "execute_result"
    }
   ],
   "source": [
    "integrate(r1, (t, 1, 3))"
   ]
  },
  {
   "cell_type": "code",
   "execution_count": 9,
   "metadata": {},
   "outputs": [
    {
     "data": {
      "text/plain": [
       "array([-2,  4,  4])"
      ]
     },
     "execution_count": 9,
     "metadata": {},
     "output_type": "execute_result"
    }
   ],
   "source": [
    "np.cross([2, 2, -1], [0, 2, -2])"
   ]
  },
  {
   "cell_type": "code",
   "execution_count": null,
   "metadata": {},
   "outputs": [],
   "source": []
  }
 ],
 "metadata": {
  "kernelspec": {
   "display_name": "Python 3",
   "language": "python",
   "name": "python3"
  },
  "language_info": {
   "codemirror_mode": {
    "name": "ipython",
    "version": 3
   },
   "file_extension": ".py",
   "mimetype": "text/x-python",
   "name": "python",
   "nbconvert_exporter": "python",
   "pygments_lexer": "ipython3",
   "version": "3.6.8"
  }
 },
 "nbformat": 4,
 "nbformat_minor": 4
}
