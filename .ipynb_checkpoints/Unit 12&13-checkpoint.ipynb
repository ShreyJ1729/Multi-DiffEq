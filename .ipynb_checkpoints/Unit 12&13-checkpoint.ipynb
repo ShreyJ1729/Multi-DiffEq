{
 "cells": [
  {
   "cell_type": "code",
   "execution_count": 51,
   "metadata": {},
   "outputs": [],
   "source": [
    "from sympy import *\n",
    "from sympy.physics.vector import ReferenceFrame, cross, dot\n",
    "import numpy as np\n",
    "init_printing()\n",
    "x, t = symbols(\"x t\")"
   ]
  },
  {
   "cell_type": "code",
   "execution_count": 53,
   "metadata": {},
   "outputs": [
    {
     "data": {
      "text/plain": [
       "'r1: '"
      ]
     },
     "metadata": {},
     "output_type": "display_data"
    },
    {
     "data": {
      "image/png": "[encoded data removed]",
      "text/latex": [
       "$\\displaystyle 2 t\\mathbf{\\hat{c}_x} + 10\\mathbf{\\hat{c}_z}$"
      ],
      "text/plain": [
       "2⋅t c_x + 10 c_z"
      ]
     },
     "metadata": {},
     "output_type": "display_data"
    },
    {
     "data": {
      "text/plain": [
       "'r2: '"
      ]
     },
     "metadata": {},
     "output_type": "display_data"
    },
    {
     "data": {
      "image/png": "[encoded data removed]",
      "text/latex": [
       "$\\displaystyle 2\\mathbf{\\hat{c}_x}$"
      ],
      "text/plain": [
       "2 c_x"
      ]
     },
     "metadata": {},
     "output_type": "display_data"
    },
    {
     "data": {
      "text/plain": [
       "'r3: '"
      ]
     },
     "metadata": {},
     "output_type": "display_data"
    },
    {
     "data": {
      "image/png": "[encoded data removed]",
      "text/latex": [
       "$\\displaystyle 0$"
      ],
      "text/plain": [
       "0"
      ]
     },
     "metadata": {},
     "output_type": "display_data"
    },
    {
     "data": {
      "text/plain": [
       "'r1 norm: '"
      ]
     },
     "metadata": {},
     "output_type": "display_data"
    },
    {
     "data": {
      "image/png": "[encoded data removed]",
      "text/latex": [
       "$\\displaystyle \\frac{2 t}{\\sqrt{4 t^{2} + 100}}\\mathbf{\\hat{c}_x} + \\frac{10}{\\sqrt{4 t^{2} + 100}}\\mathbf{\\hat{c}_z}$"
      ],
      "text/plain": [
       "      2⋅t                    10\n",
       "─────────────── c_x + ─────────────── c_z\n",
       "   ____________          ____________\n",
       "  ╱    2                ╱    2\n",
       "╲╱  4⋅t  + 100        ╲╱  4⋅t  + 100"
      ]
     },
     "metadata": {},
     "output_type": "display_data"
    },
    {
     "data": {
      "text/plain": [
       "'r2 norm: '"
      ]
     },
     "metadata": {},
     "output_type": "display_data"
    },
    {
     "data": {
      "image/png": "[encoded data removed]",
      "text/latex": [
       "$\\displaystyle \\mathbf{\\hat{c}_x}$"
      ],
      "text/plain": [
       "c_x"
      ]
     },
     "metadata": {},
     "output_type": "display_data"
    },
    {
     "data": {
      "text/plain": [
       "'r3 norm: '"
      ]
     },
     "metadata": {},
     "output_type": "display_data"
    },
    {
     "data": {
      "image/png": "[encoded data removed]",
      "text/latex": [
       "$\\displaystyle 0$"
      ],
      "text/plain": [
       "0"
      ]
     },
     "metadata": {},
     "output_type": "display_data"
    }
   ],
   "source": [
    "C = ReferenceFrame(\"C\")\n",
    "r = np.dot([t**2, 0, 10*t], [C.x, C.y, C.z])\n",
    "r1 = r.diff(t, C)\n",
    "r2 = r1.diff(t, C)\n",
    "r3 = r2.diff(t, C)\n",
    "display(\"r1: \", r1)\n",
    "display(\"r2: \", r2)\n",
    "display(\"r3: \", r3)\n",
    "display(\"r1 norm: \", r1.normalize())\n",
    "display(\"r2 norm: \", r2.normalize())\n",
    "display(\"r3 norm: \", r3.normalize())"
   ]
  },
  {
   "cell_type": "code",
   "execution_count": 54,
   "metadata": {},
   "outputs": [
    {
     "data": {
      "text/plain": [
       "'Tangent: '"
      ]
     },
     "metadata": {},
     "output_type": "display_data"
    },
    {
     "data": {
      "image/png": "[encoded data removed]",
      "text/latex": [
       "$\\displaystyle \\frac{2 t}{\\sqrt{4 t^{2} + 100}}\\mathbf{\\hat{c}_x} + \\frac{10}{\\sqrt{4 t^{2} + 100}}\\mathbf{\\hat{c}_z}$"
      ],
      "text/plain": [
       "      2⋅t                    10\n",
       "─────────────── c_x + ─────────────── c_z\n",
       "   ____________          ____________\n",
       "  ╱    2                ╱    2\n",
       "╲╱  4⋅t  + 100        ╲╱  4⋅t  + 100"
      ]
     },
     "metadata": {},
     "output_type": "display_data"
    },
    {
     "data": {
      "text/plain": [
       "'Curvature: '"
      ]
     },
     "metadata": {},
     "output_type": "display_data"
    },
    {
     "data": {
      "image/png": "[encoded data removed]",
      "text/latex": [
       "$\\displaystyle \\frac{20}{\\left(4 t^{2} + 100\\right)^{\\frac{3}{2}}}$"
      ],
      "text/plain": [
       "       20      \n",
       "───────────────\n",
       "            3/2\n",
       "⎛   2      ⎞   \n",
       "⎝4⋅t  + 100⎠   "
      ]
     },
     "metadata": {},
     "output_type": "display_data"
    }
   ],
   "source": [
    "T = r1.normalize()\n",
    "display(\"Tangent: \", T)\n",
    "kappa = cross(r1, r2).magnitude()/r1.magnitude()**3\n",
    "display(\"Curvature: \", kappa)"
   ]
  },
  {
   "cell_type": "code",
   "execution_count": 46,
   "metadata": {},
   "outputs": [
    {
     "data": {
      "text/plain": [
       "'Normal:'"
      ]
     },
     "metadata": {},
     "output_type": "display_data"
    },
    {
     "data": {
      "image/png": "[encoded data removed]",
      "text/latex": [
       "$\\displaystyle \\frac{- \\frac{8 t^{2}}{\\left(4 t^{2} + \\operatorname{sin}^{2}\\left(t\\right) + \\operatorname{cos}^{2}\\left(t\\right)\\right)^{\\frac{3}{2}}} + \\frac{2}{\\sqrt{4 t^{2} + \\operatorname{sin}^{2}\\left(t\\right) + \\operatorname{cos}^{2}\\left(t\\right)}}}{\\sqrt{\\left(- \\frac{8 t^{2}}{\\left(4 t^{2} + \\operatorname{sin}^{2}\\left(t\\right) + \\operatorname{cos}^{2}\\left(t\\right)\\right)^{\\frac{3}{2}}} + \\frac{2}{\\sqrt{4 t^{2} + \\operatorname{sin}^{2}\\left(t\\right) + \\operatorname{cos}^{2}\\left(t\\right)}}\\right)^{2} + \\left(\\frac{4 t \\operatorname{sin}\\left(t\\right)}{\\left(4 t^{2} + \\operatorname{sin}^{2}\\left(t\\right) + \\operatorname{cos}^{2}\\left(t\\right)\\right)^{\\frac{3}{2}}} - \\frac{\\operatorname{cos}\\left(t\\right)}{\\sqrt{4 t^{2} + \\operatorname{sin}^{2}\\left(t\\right) + \\operatorname{cos}^{2}\\left(t\\right)}}\\right)^{2} + \\left(- \\frac{4 t \\operatorname{cos}\\left(t\\right)}{\\left(4 t^{2} + \\operatorname{sin}^{2}\\left(t\\right) + \\operatorname{cos}^{2}\\left(t\\right)\\right)^{\\frac{3}{2}}} - \\frac{\\operatorname{sin}\\left(t\\right)}{\\sqrt{4 t^{2} + \\operatorname{sin}^{2}\\left(t\\right) + \\operatorname{cos}^{2}\\left(t\\right)}}\\right)^{2}}}\\mathbf{\\hat{c}_x} + \\frac{- \\frac{4 t \\operatorname{cos}\\left(t\\right)}{\\left(4 t^{2} + \\operatorname{sin}^{2}\\left(t\\right) + \\operatorname{cos}^{2}\\left(t\\right)\\right)^{\\frac{3}{2}}} - \\frac{\\operatorname{sin}\\left(t\\right)}{\\sqrt{4 t^{2} + \\operatorname{sin}^{2}\\left(t\\right) + \\operatorname{cos}^{2}\\left(t\\right)}}}{\\sqrt{\\left(- \\frac{8 t^{2}}{\\left(4 t^{2} + \\operatorname{sin}^{2}\\left(t\\right) + \\operatorname{cos}^{2}\\left(t\\right)\\right)^{\\frac{3}{2}}} + \\frac{2}{\\sqrt{4 t^{2} + \\operatorname{sin}^{2}\\left(t\\right) + \\operatorname{cos}^{2}\\left(t\\right)}}\\right)^{2} + \\left(\\frac{4 t \\operatorname{sin}\\left(t\\right)}{\\left(4 t^{2} + \\operatorname{sin}^{2}\\left(t\\right) + \\operatorname{cos}^{2}\\left(t\\right)\\right)^{\\frac{3}{2}}} - \\frac{\\operatorname{cos}\\left(t\\right)}{\\sqrt{4 t^{2} + \\operatorname{sin}^{2}\\left(t\\right) + \\operatorname{cos}^{2}\\left(t\\right)}}\\right)^{2} + \\left(- \\frac{4 t \\operatorname{cos}\\left(t\\right)}{\\left(4 t^{2} + \\operatorname{sin}^{2}\\left(t\\right) + \\operatorname{cos}^{2}\\left(t\\right)\\right)^{\\frac{3}{2}}} - \\frac{\\operatorname{sin}\\left(t\\right)}{\\sqrt{4 t^{2} + \\operatorname{sin}^{2}\\left(t\\right) + \\operatorname{cos}^{2}\\left(t\\right)}}\\right)^{2}}}\\mathbf{\\hat{c}_y} + \\frac{\\frac{4 t \\operatorname{sin}\\left(t\\right)}{\\left(4 t^{2} + \\operatorname{sin}^{2}\\left(t\\right) + \\operatorname{cos}^{2}\\left(t\\right)\\right)^{\\frac{3}{2}}} - \\frac{\\operatorname{cos}\\left(t\\right)}{\\sqrt{4 t^{2} + \\operatorname{sin}^{2}\\left(t\\right) + \\operatorname{cos}^{2}\\left(t\\right)}}}{\\sqrt{\\left(- \\frac{8 t^{2}}{\\left(4 t^{2} + \\operatorname{sin}^{2}\\left(t\\right) + \\operatorname{cos}^{2}\\left(t\\right)\\right)^{\\frac{3}{2}}} + \\frac{2}{\\sqrt{4 t^{2} + \\operatorname{sin}^{2}\\left(t\\right) + \\operatorname{cos}^{2}\\left(t\\right)}}\\right)^{2} + \\left(\\frac{4 t \\operatorname{sin}\\left(t\\right)}{\\left(4 t^{2} + \\operatorname{sin}^{2}\\left(t\\right) + \\operatorname{cos}^{2}\\left(t\\right)\\right)^{\\frac{3}{2}}} - \\frac{\\operatorname{cos}\\left(t\\right)}{\\sqrt{4 t^{2} + \\operatorname{sin}^{2}\\left(t\\right) + \\operatorname{cos}^{2}\\left(t\\right)}}\\right)^{2} + \\left(- \\frac{4 t \\operatorname{cos}\\left(t\\right)}{\\left(4 t^{2} + \\operatorname{sin}^{2}\\left(t\\right) + \\operatorname{cos}^{2}\\left(t\\right)\\right)^{\\frac{3}{2}}} - \\frac{\\operatorname{sin}\\left(t\\right)}{\\sqrt{4 t^{2} + \\operatorname{sin}^{2}\\left(t\\right) + \\operatorname{cos}^{2}\\left(t\\right)}}\\right)^{2}}}\\mathbf{\\hat{c}_z}$"
      ],
      "text/plain": [
       "\n",
       "\n",
       "                                                                          - ──\n",
       "\n",
       "                                                                            ⎛\n",
       "                                                                            ⎝4\n",
       "──────────────────────────────────────────────────────────────────────────────\n",
       "        ______________________________________________________________________\n",
       "       ╱                                                                  2\n",
       "      ╱  ⎛                  2                                            ⎞\n",
       "     ╱   ⎜               8⋅t                              2              ⎟\n",
       "    ╱    ⎜- ───────────────────────────── + ─────────────────────────────⎟  +\n",
       "   ╱     ⎜                            3/2      __________________________⎟\n",
       "  ╱      ⎜  ⎛   2      2         2   ⎞        ╱    2      2         2    ⎟\n",
       "╲╱       ⎝  ⎝4⋅t  + sin (t) + cos (t)⎠      ╲╱  4⋅t  + sin (t) + cos (t) ⎠\n",
       "\n",
       "              2\n",
       "           8⋅t                              2\n",
       "─────────────────────────── + ─────────────────────────────\n",
       "                        3/2      __________________________\n",
       "  2      2         2   ⎞        ╱    2      2         2\n",
       "⋅t  + sin (t) + cos (t)⎠      ╲╱  4⋅t  + sin (t) + cos (t)\n",
       "──────────────────────────────────────────────────────────────────────────────\n",
       "______________________________________________________________________________\n",
       "\n",
       "                                                               2\n",
       "⎛          4⋅t⋅sin(t)                        cos(t)           ⎞    ⎛\n",
       "⎜───────────────────────────── - ─────────────────────────────⎟  + ⎜- ────────\n",
       "⎜                          3/2      __________________________⎟    ⎜\n",
       "⎜⎛   2      2         2   ⎞        ╱    2      2         2    ⎟    ⎜  ⎛   2\n",
       "⎝⎝4⋅t  + sin (t) + cos (t)⎠      ╲╱  4⋅t  + sin (t) + cos (t) ⎠    ⎝  ⎝4⋅t  +\n",
       "\n",
       "\n",
       "\n",
       "\n",
       "\n",
       "\n",
       "\n",
       "──────────────────────────────────────────────────────── c_x + ───────────────\n",
       "________________________________________________________               _______\n",
       "                                                                      ╱\n",
       "                                                      2              ╱  ⎛\n",
       "  4⋅t⋅cos(t)                        sin(t)           ⎞              ╱   ⎜\n",
       "───────────────────── - ─────────────────────────────⎟             ╱    ⎜- ───\n",
       "                  3/2      __________________________⎟            ╱     ⎜\n",
       "   2         2   ⎞        ╱    2      2         2    ⎟           ╱      ⎜  ⎛\n",
       "sin (t) + cos (t)⎠      ╲╱  4⋅t  + sin (t) + cos (t) ⎠         ╲╱       ⎝  ⎝4⋅\n",
       "\n",
       "\n",
       "                                                                       4⋅t⋅cos\n",
       "                                                           - ─────────────────\n",
       "\n",
       "                                                             ⎛   2      2\n",
       "                                                             ⎝4⋅t  + sin (t) +\n",
       "──────────────────────────────────────────────────────────────────────────────\n",
       "______________________________________________________________________________\n",
       "                                                           2\n",
       "             2                                            ⎞\n",
       "          8⋅t                              2              ⎟    ⎛          4⋅t⋅\n",
       "────────────────────────── + ─────────────────────────────⎟  + ⎜──────────────\n",
       "                       3/2      __________________________⎟    ⎜\n",
       " 2      2         2   ⎞        ╱    2      2         2    ⎟    ⎜⎛   2      2\n",
       "t  + sin (t) + cos (t)⎠      ╲╱  4⋅t  + sin (t) + cos (t) ⎠    ⎝⎝4⋅t  + sin (t\n",
       "\n",
       "\n",
       "(t)                        sin(t)\n",
       "──────────── - ─────────────────────────────\n",
       "         3/2      __________________________\n",
       "    2   ⎞        ╱    2      2         2\n",
       " cos (t)⎠      ╲╱  4⋅t  + sin (t) + cos (t)\n",
       "──────────────────────────────────────────────────────────────────────────────\n",
       "______________________________________________________________________________\n",
       "\n",
       "                                                2\n",
       "sin(t)                        cos(t)           ⎞    ⎛            4⋅t⋅cos(t)\n",
       "─────────────── - ─────────────────────────────⎟  + ⎜- ───────────────────────\n",
       "            3/2      __________________________⎟    ⎜\n",
       "       2   ⎞        ╱    2      2         2    ⎟    ⎜  ⎛   2      2         2\n",
       ") + cos (t)⎠      ╲╱  4⋅t  + sin (t) + cos (t) ⎠    ⎝  ⎝4⋅t  + sin (t) + cos (\n",
       "\n",
       "\n",
       "\n",
       "\n",
       "\n",
       "\n",
       "\n",
       "───────────────────────────────────────── c_y + ──────────────────────────────\n",
       "_________________________________________               ______________________\n",
       "                                                       ╱\n",
       "                                       2              ╱  ⎛                  2\n",
       "                     sin(t)           ⎞              ╱   ⎜               8⋅t\n",
       "────── - ─────────────────────────────⎟             ╱    ⎜- ──────────────────\n",
       "   3/2      __________________________⎟            ╱     ⎜\n",
       "  ⎞        ╱    2      2         2    ⎟           ╱      ⎜  ⎛   2      2\n",
       "t)⎠      ╲╱  4⋅t  + sin (t) + cos (t) ⎠         ╲╱       ⎝  ⎝4⋅t  + sin (t) +\n",
       "\n",
       "\n",
       "                                                       4⋅t⋅sin(t)\n",
       "                                             ───────────────────────────── - ─\n",
       "                                                                       3/2\n",
       "                                             ⎛   2      2         2   ⎞\n",
       "                                             ⎝4⋅t  + sin (t) + cos (t)⎠      ╲\n",
       "──────────────────────────────────────────────────────────────────────────────\n",
       "______________________________________________________________________________\n",
       "                                            2\n",
       "                                           ⎞\n",
       "                            2              ⎟    ⎛          4⋅t⋅sin(t)\n",
       "─────────── + ─────────────────────────────⎟  + ⎜─────────────────────────────\n",
       "        3/2      __________________________⎟    ⎜                          3/2\n",
       "   2   ⎞        ╱    2      2         2    ⎟    ⎜⎛   2      2         2   ⎞\n",
       "cos (t)⎠      ╲╱  4⋅t  + sin (t) + cos (t) ⎠    ⎝⎝4⋅t  + sin (t) + cos (t)⎠\n",
       "\n",
       "\n",
       "           cos(t)\n",
       "────────────────────────────\n",
       "  __________________________\n",
       " ╱    2      2         2\n",
       "╱  4⋅t  + sin (t) + cos (t)\n",
       "──────────────────────────────────────────────────────────────────────────────\n",
       "______________________________________________________________________________\n",
       "\n",
       "                                 2\n",
       "               cos(t)           ⎞    ⎛            4⋅t⋅cos(t)\n",
       " - ─────────────────────────────⎟  + ⎜- ───────────────────────────── - ──────\n",
       "      __________________________⎟    ⎜                            3/2      ___\n",
       "     ╱    2      2         2    ⎟    ⎜  ⎛   2      2         2   ⎞        ╱\n",
       "   ╲╱  4⋅t  + sin (t) + cos (t) ⎠    ⎝  ⎝4⋅t  + sin (t) + cos (t)⎠      ╲╱  4⋅\n",
       "\n",
       "\n",
       "\n",
       "\n",
       "\n",
       "\n",
       "\n",
       "────────────────────────── c_z\n",
       "__________________________\n",
       "\n",
       "                        2\n",
       "      sin(t)           ⎞\n",
       "───────────────────────⎟\n",
       "_______________________⎟\n",
       " 2      2         2    ⎟\n",
       "t  + sin (t) + cos (t) ⎠"
      ]
     },
     "metadata": {},
     "output_type": "display_data"
    }
   ],
   "source": [
    "N = T.diff(t, C).normalize()\n",
    "display(\"Normal:\", N)"
   ]
  },
  {
   "cell_type": "code",
   "execution_count": null,
   "metadata": {},
   "outputs": [],
   "source": []
  }
 ],
 "metadata": {
  "kernelspec": {
   "display_name": "Python 3",
   "language": "python",
   "name": "python3"
  },
  "language_info": {
   "codemirror_mode": {
    "name": "ipython",
    "version": 3
   },
   "file_extension": ".py",
   "mimetype": "text/x-python",
   "name": "python",
   "nbconvert_exporter": "python",
   "pygments_lexer": "ipython3",
   "version": "3.6.8"
  }
 },
 "nbformat": 4,
 "nbformat_minor": 4
}
