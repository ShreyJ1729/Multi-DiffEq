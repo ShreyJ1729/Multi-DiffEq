{
 "cells": [
  {
   "cell_type": "code",
   "execution_count": 112,
   "metadata": {},
   "outputs": [],
   "source": [
    "from sympy import *\n",
    "from sympy.physics.vector import ReferenceFrame, cross, dot\n",
    "import numpy as np\n",
    "init_printing()\n",
    "x, y, z, t = symbols(\"x y z t\")"
   ]
  },
  {
   "cell_type": "code",
   "execution_count": 113,
   "metadata": {},
   "outputs": [
    {
     "name": "stdout",
     "output_type": "stream",
     "text": [
      "f(x, y, z) =\n"
     ]
    },
    {
     "data": {
      "image/png": "[encoded data removed]",
      "text/latex": [
       "$\\displaystyle x e^{y} + y e^{z} + z e^{x}$"
      ],
      "text/plain": [
       "   y      z      x\n",
       "x⋅ℯ  + y⋅ℯ  + z⋅ℯ "
      ]
     },
     "metadata": {},
     "output_type": "display_data"
    }
   ],
   "source": [
    "C = ReferenceFrame(\"C\")\n",
    "f = x*exp(y)+y*exp(z) + z*exp(x)\n",
    "point_ = np.array([0, 0, 0])\n",
    "point = np.dot(point_, [C.x, C.y, C.z])\n",
    "\n",
    "vect_ = np.array([5, 1, -2])\n",
    "vect = np.dot(vect_, [C.x, C.y, C.z])\n",
    "print(\"f(x, y, z) =\")\n",
    "display(f)"
   ]
  },
  {
   "cell_type": "code",
   "execution_count": 114,
   "metadata": {},
   "outputs": [
    {
     "name": "stdout",
     "output_type": "stream",
     "text": [
      "gradient of f: \n"
     ]
    },
    {
     "data": {
      "text/latex": [
       "$\\displaystyle \\left[\\begin{matrix}z e^{x} + e^{y}\\\\x e^{y} + e^{z}\\\\y e^{z} + e^{x}\\end{matrix}\\right]$"
      ],
      "text/plain": [
       "⎡   x    y⎤\n",
       "⎢z⋅ℯ  + ℯ ⎥\n",
       "⎢         ⎥\n",
       "⎢   y    z⎥\n",
       "⎢x⋅ℯ  + ℯ ⎥\n",
       "⎢         ⎥\n",
       "⎢   z    x⎥\n",
       "⎣y⋅ℯ  + ℯ ⎦"
      ]
     },
     "metadata": {},
     "output_type": "display_data"
    },
    {
     "name": "stdout",
     "output_type": "stream",
     "text": [
      "norm gradient of f: \n"
     ]
    },
    {
     "data": {
      "image/png": "[encoded data removed]",
      "text/latex": [
       "$\\displaystyle \\sqrt{\\left|{x e^{y} + e^{z}}\\right|^{2} + \\left|{y e^{z} + e^{x}}\\right|^{2} + \\left|{z e^{x} + e^{y}}\\right|^{2}}$"
      ],
      "text/plain": [
       "    ____________________________________________\n",
       "   ╱            2              2              2 \n",
       "  ╱  │   y    z│    │   z    x│    │   x    y│  \n",
       "╲╱   │x⋅ℯ  + ℯ │  + │y⋅ℯ  + ℯ │  + │z⋅ℯ  + ℯ │  "
      ]
     },
     "execution_count": 114,
     "metadata": {},
     "output_type": "execute_result"
    }
   ],
   "source": [
    "xyz = [x, y, z]\n",
    "f_grad = Matrix([f.diff(xyz_) for xyz_ in xyz])\n",
    "print(\"gradient of f: \")\n",
    "display(f_grad)\n",
    "print(\"norm gradient of f: \")\n",
    "f_grad.norm()"
   ]
  },
  {
   "cell_type": "code",
   "execution_count": 115,
   "metadata": {},
   "outputs": [
    {
     "name": "stdout",
     "output_type": "stream",
     "text": [
      "f grad subs\n"
     ]
    },
    {
     "data": {
      "image/png": "[encoded data removed]",
      "text/latex": [
       "$\\displaystyle \\left[ 1, \\  1, \\  1\\right]$"
      ],
      "text/plain": [
       "[1, 1, 1]"
      ]
     },
     "metadata": {},
     "output_type": "display_data"
    },
    {
     "name": "stdout",
     "output_type": "stream",
     "text": [
      "f grad norm subs\n"
     ]
    },
    {
     "data": {
      "image/png": "[encoded data removed]",
      "text/latex": [
       "$\\displaystyle \\sqrt{3}$"
      ],
      "text/plain": [
       "√3"
      ]
     },
     "metadata": {},
     "output_type": "display_data"
    }
   ],
   "source": [
    "# substitute in values\n",
    "f_grad_norm = f_grad.norm()\n",
    "f_grad_norm = f_grad_norm.subs({x: point_[0], y: point_[1], z: point_[2]})\n",
    "\n",
    "f_grad = [f_grad_.subs({x: point_[0], y: point_[1], z: point_[2]}) for f_grad_ in f_grad]\n",
    "print(\"f grad subs\")\n",
    "display(f_grad)\n",
    "print(\"f grad norm subs\")\n",
    "display(f_grad_norm)"
   ]
  },
  {
   "cell_type": "code",
   "execution_count": null,
   "metadata": {},
   "outputs": [],
   "source": []
  }
 ],
 "metadata": {
  "kernelspec": {
   "display_name": "Python 3",
   "language": "python",
   "name": "python3"
  },
  "language_info": {
   "codemirror_mode": {
    "name": "ipython",
    "version": 3
   },
   "file_extension": ".py",
   "mimetype": "text/x-python",
   "name": "python",
   "nbconvert_exporter": "python",
   "pygments_lexer": "ipython3",
   "version": "3.6.8"
  }
 },
 "nbformat": 4,
 "nbformat_minor": 4
}
