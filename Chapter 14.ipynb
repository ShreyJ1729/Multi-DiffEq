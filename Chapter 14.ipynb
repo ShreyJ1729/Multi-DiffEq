{
 "cells": [
  {
   "cell_type": "markdown",
   "metadata": {},
   "source": [
    "# Directional Derivatives and Gradients of Curves"
   ]
  },
  {
   "cell_type": "code",
   "execution_count": 1,
   "metadata": {},
   "outputs": [],
   "source": [
    "from sympy import *\n",
    "from sympy.physics.vector import ReferenceFrame, cross, dot\n",
    "import numpy as np\n",
    "init_printing()\n",
    "x, y, z, t = symbols(\"x y z t\")"
   ]
  },
  {
   "cell_type": "code",
   "execution_count": 23,
   "metadata": {},
   "outputs": [
    {
     "name": "stdout",
     "output_type": "stream",
     "text": [
      "f(x, y, z) =\n"
     ]
    },
    {
     "data": {
      "image/png": "[encoded data removed]",
      "text/latex": [
       "$\\displaystyle z^{2} e^{x y}$"
      ],
      "text/plain": [
       " 2  x⋅y\n",
       "z ⋅ℯ   "
      ]
     },
     "metadata": {},
     "output_type": "display_data"
    }
   ],
   "source": [
    "# This section computes the directional derivative for u. Enter ur function, point, and vector below\n",
    "\n",
    "C = ReferenceFrame(\"C\")\n",
    "\n",
    "# PUT FUNCTION HERE:\n",
    "f = z**2 * exp(x*y)\n",
    "\n",
    "# PUT POINT HERE:\n",
    "point_ = np.array([-1, 0, 3])\n",
    "point = np.dot(point_, [C.x, C.y, C.z])\n",
    "\n",
    "# PUT VECTOR HERE:\n",
    "vect_ = np.array([6, 8, 0])\n",
    "vect = np.dot(vect_, [C.x, C.y, C.z])\n",
    "print(\"f(x, y, z) =\")\n",
    "display(f)"
   ]
  },
  {
   "cell_type": "code",
   "execution_count": 24,
   "metadata": {},
   "outputs": [
    {
     "name": "stdout",
     "output_type": "stream",
     "text": [
      "gradient of f: \n"
     ]
    },
    {
     "data": {
      "text/latex": [
       "$\\displaystyle \\left[\\begin{matrix}y z^{2} e^{x y}\\\\x z^{2} e^{x y}\\\\2 z e^{x y}\\end{matrix}\\right]$"
      ],
      "text/plain": [
       "⎡   2  x⋅y⎤\n",
       "⎢y⋅z ⋅ℯ   ⎥\n",
       "⎢         ⎥\n",
       "⎢   2  x⋅y⎥\n",
       "⎢x⋅z ⋅ℯ   ⎥\n",
       "⎢         ⎥\n",
       "⎢     x⋅y ⎥\n",
       "⎣2⋅z⋅ℯ    ⎦"
      ]
     },
     "metadata": {},
     "output_type": "display_data"
    }
   ],
   "source": [
    "xyz = [x, y, z]\n",
    "f_grad = Matrix([f.diff(xyz_) for xyz_ in xyz])\n",
    "print(\"gradient of f: \")\n",
    "display(f_grad)\n",
    "# print(\"norm gradient of f: \")\n",
    "# f_grad.norm()"
   ]
  },
  {
   "cell_type": "code",
   "execution_count": 25,
   "metadata": {},
   "outputs": [
    {
     "name": "stdout",
     "output_type": "stream",
     "text": [
      "f grad subs\n"
     ]
    },
    {
     "data": {
      "image/png": "[encoded data removed]",
      "text/latex": [
       "$\\displaystyle \\left[ 0, \\  -9, \\  6\\right]$"
      ],
      "text/plain": [
       "[0, -9, 6]"
      ]
     },
     "metadata": {},
     "output_type": "display_data"
    }
   ],
   "source": [
    "# substitute in values\n",
    "f_grad_norm = f_grad.norm()\n",
    "f_grad_norm = f_grad_norm.subs({x: point_[0], y: point_[1], z: point_[2]})\n",
    "\n",
    "f_grad_subs = [f_grad_.subs({x: point_[0], y: point_[1], z: point_[2]}) for f_grad_ in f_grad]\n",
    "print(\"f grad subs\")\n",
    "display(f_grad_subs)\n",
    "# print(\"f grad norm subs\")\n",
    "# display(f_grad_norm)"
   ]
  },
  {
   "cell_type": "code",
   "execution_count": 16,
   "metadata": {},
   "outputs": [
    {
     "name": "stdout",
     "output_type": "stream",
     "text": [
      "unit vector in desired direction\n"
     ]
    },
    {
     "data": {
      "text/latex": [
       "$\\displaystyle \\left[\\begin{matrix}\\frac{3}{5}\\\\\\frac{4}{5}\\\\0\\end{matrix}\\right]$"
      ],
      "text/plain": [
       "⎡3/5⎤\n",
       "⎢   ⎥\n",
       "⎢4/5⎥\n",
       "⎢   ⎥\n",
       "⎣ 0 ⎦"
      ]
     },
     "execution_count": 16,
     "metadata": {},
     "output_type": "execute_result"
    }
   ],
   "source": [
    "vect_norm = vect_ / Matrix(vect_).norm()\n",
    "print(\"unit vector in desired direction\")\n",
    "Matrix(vect_norm)"
   ]
  },
  {
   "cell_type": "code",
   "execution_count": 17,
   "metadata": {},
   "outputs": [
    {
     "name": "stdout",
     "output_type": "stream",
     "text": [
      "Directional Derivative\n"
     ]
    },
    {
     "data": {
      "image/png": "[encoded data removed]",
      "text/latex": [
       "$\\displaystyle \\frac{43}{60}$"
      ],
      "text/plain": [
       "43\n",
       "──\n",
       "60"
      ]
     },
     "execution_count": 17,
     "metadata": {},
     "output_type": "execute_result"
    }
   ],
   "source": [
    "dir_derivative = np.dot(vect_norm, f_grad_subs)\n",
    "print(\"Directional Derivative\")\n",
    "dir_derivative"
   ]
  },
  {
   "cell_type": "markdown",
   "metadata": {},
   "source": [
    "# Local Maximum and Minimum, Saddle points, and etc."
   ]
  },
  {
   "cell_type": "code",
   "execution_count": 41,
   "metadata": {},
   "outputs": [
    {
     "name": "stdout",
     "output_type": "stream",
     "text": [
      "f\n"
     ]
    },
    {
     "data": {
      "image/png": "[encoded data removed]",
      "text/latex": [
       "$\\displaystyle x^{2} - x y^{2}$"
      ],
      "text/plain": [
       " 2      2\n",
       "x  - x⋅y "
      ]
     },
     "metadata": {},
     "output_type": "display_data"
    },
    {
     "name": "stdout",
     "output_type": "stream",
     "text": [
      "fx\n"
     ]
    },
    {
     "data": {
      "image/png": "[encoded data removed]",
      "text/latex": [
       "$\\displaystyle 2 x - y^{2}$"
      ],
      "text/plain": [
       "       2\n",
       "2⋅x - y "
      ]
     },
     "metadata": {},
     "output_type": "display_data"
    },
    {
     "name": "stdout",
     "output_type": "stream",
     "text": [
      "fy\n"
     ]
    },
    {
     "data": {
      "image/png": "[encoded data removed]",
      "text/latex": [
       "$\\displaystyle - 2 x y$"
      ],
      "text/plain": [
       "-2⋅x⋅y"
      ]
     },
     "metadata": {},
     "output_type": "display_data"
    },
    {
     "name": "stdout",
     "output_type": "stream",
     "text": [
      "fz\n"
     ]
    },
    {
     "data": {
      "image/png": "[encoded data removed]",
      "text/latex": [
       "$\\displaystyle 0$"
      ],
      "text/plain": [
       "0"
      ]
     },
     "metadata": {},
     "output_type": "display_data"
    }
   ],
   "source": [
    "# PUT FUNCTION HERE:\n",
    "f = x**2 -x*y**2\n",
    "\n",
    "print(\"f\")\n",
    "display(f)\n",
    "print(\"fx\")\n",
    "fx = f.diff(x)\n",
    "display(fx)\n",
    "print(\"fy\")\n",
    "fy = f.diff(y)\n",
    "display(fy)\n",
    "print(\"fz\")\n",
    "fz = f.diff(z)\n",
    "display(fz)"
   ]
  },
  {
   "cell_type": "markdown",
   "metadata": {},
   "source": [
    "Ok so now u need to find when both of the equations above are 0 or undefined at the same time and based on that\n",
    "find critical points.\n",
    "\n",
    "Once you find a critical point u can plug it into this code cell below and it'll tell you what type of point it is"
   ]
  },
  {
   "cell_type": "code",
   "execution_count": 20,
   "metadata": {},
   "outputs": [
    {
     "name": "stdout",
     "output_type": "stream",
     "text": [
      "fxx = \n"
     ]
    },
    {
     "data": {
      "image/png": "[encoded data removed]",
      "text/latex": [
       "$\\displaystyle - 6 x$"
      ],
      "text/plain": [
       "-6⋅x"
      ]
     },
     "metadata": {},
     "output_type": "display_data"
    },
    {
     "name": "stdout",
     "output_type": "stream",
     "text": [
      "fyy =\n"
     ]
    },
    {
     "data": {
      "image/png": "[encoded data removed]",
      "text/latex": [
       "$\\displaystyle - 6 x$"
      ],
      "text/plain": [
       "-6⋅x"
      ]
     },
     "metadata": {},
     "output_type": "display_data"
    },
    {
     "name": "stdout",
     "output_type": "stream",
     "text": [
      "fxy =\n"
     ]
    },
    {
     "data": {
      "image/png": "[encoded data removed]",
      "text/latex": [
       "$\\displaystyle - 6 y$"
      ],
      "text/plain": [
       "-6⋅y"
      ]
     },
     "metadata": {},
     "output_type": "display_data"
    },
    {
     "name": "stdout",
     "output_type": "stream",
     "text": [
      "D(a, b) = \n"
     ]
    },
    {
     "data": {
      "image/png": "[encoded data removed]",
      "text/latex": [
       "$\\displaystyle -36$"
      ],
      "text/plain": [
       "-36"
      ]
     },
     "metadata": {},
     "output_type": "display_data"
    },
    {
     "name": "stdout",
     "output_type": "stream",
     "text": [
      "f(crit_point) = \n"
     ]
    },
    {
     "data": {
      "image/png": "[encoded data removed]",
      "text/latex": [
       "$\\displaystyle 0$"
      ],
      "text/plain": [
       "0"
      ]
     },
     "metadata": {},
     "output_type": "display_data"
    },
    {
     "name": "stdout",
     "output_type": "stream",
     "text": [
      "CONCLUSION:\n",
      "[ 0 -1  0]  is a saddle point.\n"
     ]
    }
   ],
   "source": [
    "# CHANGE THIS VALUE TO SEE WHAT TYPE OF POINT IT IS\n",
    "crit_point = np.array([0, -1, 0])\n",
    "\n",
    "fxx = fx.diff(x)\n",
    "fyy = fy.diff(y)\n",
    "fxy = fx.diff(y)\n",
    "\n",
    "print(\"fxx = \")\n",
    "display(fxx)\n",
    "print(\"fyy =\")\n",
    "display(fyy)\n",
    "print(\"fxy =\")\n",
    "display(fxy)\n",
    "\n",
    "# fxx = fxx.subs({x: crit_point[0], y: crit_point[1]})\n",
    "# fyy = fyy.subs({x: crit_point[0], y: crit_point[1]})\n",
    "# fxy = fxy.subs({x: crit_point[0], y: crit_point[1]})\n",
    "fxx = fxx.subs({x: crit_point[0], y: crit_point[1], z: crit_point[2]})\n",
    "fyy = fyy.subs({x: crit_point[0], y: crit_point[1], z: crit_point[2]})\n",
    "fxy = fxy.subs({x: crit_point[0], y: crit_point[1], z: crit_point[2]})\n",
    "D =  fxx*fyy-fxy**2\n",
    "\n",
    "print(\"D(a, b) = \")\n",
    "display(D)\n",
    "\n",
    "print(\"f(crit_point) = \")\n",
    "# display(f.subs({x: crit_point[0], y: crit_point[1]}))\n",
    "display(f.subs({x: crit_point[0], y: crit_point[1], z: crit_point[2]}))\n",
    "print(\"CONCLUSION:\")\n",
    "if D>0 and fxx>0:\n",
    "    print(\"Local min since fxx = \", fxx, \"> 0 and D(a, b) =\", D, \"> 0\")\n",
    "elif D>0 and fxx<0:\n",
    "    print(\"Local max since fxx = \", fxx, \"< 0 and D(a, b) =\", D, \"> 0\")\n",
    "elif D<0:\n",
    "    print(crit_point, \" is a saddle point.\")\n",
    "elif D==0:\n",
    "    print(\"No Conclusion\")"
   ]
  },
  {
   "cell_type": "markdown",
   "metadata": {},
   "source": [
    "# Langrange Multiplier Stuff"
   ]
  },
  {
   "cell_type": "code",
   "execution_count": 19,
   "metadata": {},
   "outputs": [
    {
     "name": "stdout",
     "output_type": "stream",
     "text": [
      "x:  0 y:  0\n"
     ]
    },
    {
     "data": {
      "image/png": "[encoded data removed]",
      "text/latex": [
       "$\\displaystyle 0$"
      ],
      "text/plain": [
       "0"
      ]
     },
     "metadata": {},
     "output_type": "display_data"
    },
    {
     "name": "stdout",
     "output_type": "stream",
     "text": [
      "x:  0 y:  6\n"
     ]
    },
    {
     "data": {
      "image/png": "[encoded data removed]",
      "text/latex": [
       "$\\displaystyle 0$"
      ],
      "text/plain": [
       "0"
      ]
     },
     "metadata": {},
     "output_type": "display_data"
    },
    {
     "name": "stdout",
     "output_type": "stream",
     "text": [
      "x:  6 y:  0\n"
     ]
    },
    {
     "data": {
      "image/png": "[encoded data removed]",
      "text/latex": [
       "$\\displaystyle 0$"
      ],
      "text/plain": [
       "0"
      ]
     },
     "metadata": {},
     "output_type": "display_data"
    },
    {
     "name": "stdout",
     "output_type": "stream",
     "text": [
      "x:  6 y:  6\n"
     ]
    },
    {
     "data": {
      "image/png": "[encoded data removed]",
      "text/latex": [
       "$\\displaystyle -1728$"
      ],
      "text/plain": [
       "-1728"
      ]
     },
     "metadata": {},
     "output_type": "display_data"
    }
   ],
   "source": [
    "# sry lol ur gonna have to do langrange by urself oops\n",
    "\n",
    "# PUT MAIN FUNCTION HERE\n",
    "f = 4*x*y**2 + -x*y**3 - x**2*y**2\n",
    "\n",
    "\n",
    "xs = [0, 6]\n",
    "ys = [0, 6]\n",
    "\n",
    "for i in xs:\n",
    "    for j in ys:\n",
    "        print(\"x: \", i, \"y: \", j)\n",
    "        display(f.subs({x: i, y: j}))"
   ]
  },
  {
   "cell_type": "code",
   "execution_count": 39,
   "metadata": {},
   "outputs": [
    {
     "data": {
      "image/png": "[encoded data removed]",
      "text/latex": [
       "$\\displaystyle -1$"
      ],
      "text/plain": [
       "-1"
      ]
     },
     "execution_count": 39,
     "metadata": {},
     "output_type": "execute_result"
    }
   ],
   "source": [
    "fy.subs({x: 1, y: -100})"
   ]
  },
  {
   "cell_type": "code",
   "execution_count": null,
   "metadata": {},
   "outputs": [],
   "source": []
  }
 ],
 "metadata": {
  "kernelspec": {
   "display_name": "Python 3",
   "language": "python",
   "name": "python3"
  },
  "language_info": {
   "codemirror_mode": {
    "name": "ipython",
    "version": 3
   },
   "file_extension": ".py",
   "mimetype": "text/x-python",
   "name": "python",
   "nbconvert_exporter": "python",
   "pygments_lexer": "ipython3",
   "version": "3.6.8"
  }
 },
 "nbformat": 4,
 "nbformat_minor": 4
}
