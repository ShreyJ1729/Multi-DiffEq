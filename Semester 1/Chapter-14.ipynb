{
 "cells": [
  {
   "cell_type": "markdown",
   "metadata": {},
   "source": [
    "# Gradients and Directional Derivatives"
   ]
  },
  {
   "cell_type": "code",
   "execution_count": 80,
   "metadata": {},
   "outputs": [],
   "source": [
    "# initialization stuff\n",
    "from sympy import *\n",
    "from sympy.physics.vector import ReferenceFrame, cross, dot\n",
    "import numpy as np\n",
    "init_printing()\n",
    "x, y, z, t = symbols(\"x y z t\")\n",
    "C = ReferenceFrame(\"C\")\n",
    "\n",
    "class VectorValuedFunction():\n",
    "    def __init__(self, func, vector, point):\n",
    "        self.f = func\n",
    "        self.vect_ = vector\n",
    "        self.vect = np.dot(self.vect_, [C.x, C.y, C.z])\n",
    "        self.point_ = point\n",
    "        self.point = np.dot(self.point_, [C.x, C.y, C.z])\n",
    "        self.xyz = [x, y, z]\n",
    "        self.f_grad = Matrix([self.f.diff(xyz_) for xyz_ in self.xyz])\n",
    "        self.f_grad_norm = self.f_grad.norm()\n",
    "        self.f_grad_norm_subs = self.f_grad_norm.subs({x: self.point_[0], y: self.point_[1], z: self.point_[2]})\n",
    "        self.f_grad_subs = [self.f_grad.subs({x: self.point_[0], y: self.point_[1], z: self.point_[2]}) for f_grad_ in self.f_grad]\n",
    "        self.vect_norm = self.vect_ / Matrix(self.vect_).norm()\n",
    "        self.dir_derivative = np.dot(self.vect_norm, self.f_grad_subs)\n",
    "        \n",
    "        print(\"f(x, y, z) =\")\n",
    "        display(self.f)\n",
    "    \n",
    "    def showGrad(self):\n",
    "        print(\"gradient of f: \")\n",
    "        display(self.f_grad)\n",
    "        \n",
    "        print(\"gradient of f with substituted point = \" + str(self.point_))\n",
    "        display(self.f_grad_subs)\n",
    "    \n",
    "    def showNormGrad(self):\n",
    "        print(\"norm gradient of f: \")\n",
    "        display(self.f_grad.norm())\n",
    "        print(\"norm gradient of f with substituted point = \" + str(self.point_))\n",
    "        display(self.f_grad_norm_subs)\n",
    "    \n",
    "    def showUnitVector(self):\n",
    "        print(\"unit vector in desired direction\")\n",
    "        display(Matrix(self.vect_norm))\n",
    "        \n",
    "    def showDirectionalDerivative(self):\n",
    "        print(\"directional derivative: \")\n",
    "        display(Matrix(self.dir_derivative))"
   ]
  },
  {
   "cell_type": "code",
   "execution_count": 79,
   "metadata": {},
   "outputs": [
    {
     "name": "stdout",
     "output_type": "stream",
     "text": [
      "f(x, y, z) =\n"
     ]
    },
    {
     "data": {
      "text/latex": [
       "$\\displaystyle x^{2} \\left(y - 1\\right)$"
      ],
      "text/plain": [
       " 2        \n",
       "x ⋅(y - 1)"
      ]
     },
     "metadata": {},
     "output_type": "display_data"
    },
    {
     "name": "stdout",
     "output_type": "stream",
     "text": [
      "gradient of f: \n"
     ]
    },
    {
     "data": {
      "text/latex": [
       "$\\displaystyle \\left[\\begin{matrix}2 x \\left(y - 1\\right)\\\\x^{2}\\\\0\\end{matrix}\\right]$"
      ],
      "text/plain": [
       "⎡2⋅x⋅(y - 1)⎤\n",
       "⎢           ⎥\n",
       "⎢     2     ⎥\n",
       "⎢    x      ⎥\n",
       "⎢           ⎥\n",
       "⎣     0     ⎦"
      ]
     },
     "metadata": {},
     "output_type": "display_data"
    },
    {
     "name": "stdout",
     "output_type": "stream",
     "text": [
      "gradient of f with substituted point = [1 3 0]\n"
     ]
    },
    {
     "data": {
      "text/latex": [
       "$\\displaystyle \\left[ \\left[\\begin{matrix}4\\\\1\\\\0\\end{matrix}\\right], \\  \\left[\\begin{matrix}4\\\\1\\\\0\\end{matrix}\\right], \\  \\left[\\begin{matrix}4\\\\1\\\\0\\end{matrix}\\right]\\right]$"
      ],
      "text/plain": [
       "⎡⎡4⎤  ⎡4⎤  ⎡4⎤⎤\n",
       "⎢⎢ ⎥  ⎢ ⎥  ⎢ ⎥⎥\n",
       "⎢⎢1⎥, ⎢1⎥, ⎢1⎥⎥\n",
       "⎢⎢ ⎥  ⎢ ⎥  ⎢ ⎥⎥\n",
       "⎣⎣0⎦  ⎣0⎦  ⎣0⎦⎦"
      ]
     },
     "metadata": {},
     "output_type": "display_data"
    },
    {
     "name": "stdout",
     "output_type": "stream",
     "text": [
      "norm gradient of f: \n"
     ]
    },
    {
     "data": {
      "text/latex": [
       "$\\displaystyle \\sqrt{\\left|{x^{2}}\\right|^{2} + 4 \\left|{x \\left(y - 1\\right)}\\right|^{2}}$"
      ],
      "text/plain": [
       "    ________________________\n",
       "   ╱     2                  \n",
       "  ╱  │ 2│                 2 \n",
       "╲╱   │x │  + 4⋅│x⋅(y - 1)│  "
      ]
     },
     "metadata": {},
     "output_type": "display_data"
    },
    {
     "name": "stdout",
     "output_type": "stream",
     "text": [
      "norm gradient of f with substituted point = [1 3 0]\n"
     ]
    },
    {
     "data": {
      "text/latex": [
       "$\\displaystyle \\sqrt{17}$"
      ],
      "text/plain": [
       "√17"
      ]
     },
     "metadata": {},
     "output_type": "display_data"
    },
    {
     "name": "stdout",
     "output_type": "stream",
     "text": [
      "unit vector in desired direction\n"
     ]
    },
    {
     "data": {
      "text/latex": [
       "$\\displaystyle \\left[\\begin{matrix}\\frac{3}{5}\\\\- \\frac{4}{5}\\\\0\\end{matrix}\\right]$"
      ],
      "text/plain": [
       "⎡3/5 ⎤\n",
       "⎢    ⎥\n",
       "⎢-4/5⎥\n",
       "⎢    ⎥\n",
       "⎣ 0  ⎦"
      ]
     },
     "metadata": {},
     "output_type": "display_data"
    },
    {
     "name": "stdout",
     "output_type": "stream",
     "text": [
      "directional derivative: \n"
     ]
    },
    {
     "data": {
      "text/latex": [
       "$\\displaystyle \\left[\\begin{matrix}\\frac{8}{5}\\\\\\frac{8}{5}\\\\\\frac{8}{5}\\end{matrix}\\right]$"
      ],
      "text/plain": [
       "⎡8/5⎤\n",
       "⎢   ⎥\n",
       "⎢8/5⎥\n",
       "⎢   ⎥\n",
       "⎣8/5⎦"
      ]
     },
     "metadata": {},
     "output_type": "display_data"
    }
   ],
   "source": [
    "# PUT POINT HERE:\n",
    "point = np.array([1, 3, 0])\n",
    "\n",
    "# PUT VECTOR HERE:\n",
    "vector = np.array([3, -4, 0])\n",
    "\n",
    "f = VectorValuedFunction(x**2*(y-1), vector, point)\n",
    "f.showGrad()\n",
    "f.showNormGrad()\n",
    "f.showUnitVector()\n",
    "f.showDirectionalDerivative()"
   ]
  },
  {
   "cell_type": "markdown",
   "metadata": {},
   "source": [
    "# Langrange Multipliers"
   ]
  },
  {
   "cell_type": "code",
   "execution_count": 81,
   "metadata": {},
   "outputs": [],
   "source": [
    "class LangrangeFunction():\n",
    "    def __init__(self, f):\n",
    "        self.f = f\n",
    "        self.fx = f.diff(x)\n",
    "        self.fy = f.diff(y)\n",
    "        self.fz = f.diff(z)\n",
    "        self.fxx = self.fx.diff(x)\n",
    "        self.fyy = self.fy.diff(y)\n",
    "        self.fxy = self.fx.diff(y)\n",
    "        print(\"f(x, y, z) = \")\n",
    "        display(f)\n",
    "        \n",
    "    def showDerivatives(self):\n",
    "        print(\"fx: \")\n",
    "        display(self.fx)\n",
    "        print(\"fy: \")\n",
    "        display(self.fy)\n",
    "        print(\"fz: \")\n",
    "        display(self.fz)\n",
    "    \n",
    "    def checkPoint(self, crit_point):\n",
    "        # fxx = fxx.subs({x: crit_point[0], y: crit_point[1]})\n",
    "        # fyy = fyy.subs({x: crit_point[0], y: crit_point[1]})\n",
    "        # fxy = fxy.subs({x: crit_point[0], y: crit_point[1]})\n",
    "        self.fxx = self.fxx.subs({x: crit_point[0], y: crit_point[1], z: crit_point[2]})\n",
    "        self.fyy = self.fyy.subs({x: crit_point[0], y: crit_point[1], z: crit_point[2]})\n",
    "        self.fxy = self.fxy.subs({x: crit_point[0], y: crit_point[1], z: crit_point[2]})\n",
    "        D =  self.fxx*self.fyy-self.fxy**2\n",
    "\n",
    "        print(\"D(a, b) = \")\n",
    "        display(D)\n",
    "\n",
    "        print(\"f(crit_point) = \")\n",
    "        # display(f.subs({x: crit_point[0], y: crit_point[1]}))\n",
    "        display(self.f.subs({x: crit_point[0], y: crit_point[1], z: crit_point[2]}))\n",
    "        print(\"CONCLUSION:\")\n",
    "        if D>0 and self.fxx>0:\n",
    "            print(\"Local min since fxx = \", self.fxx, \"> 0 and D(a, b) =\", D, \"> 0\")\n",
    "        elif D>0 and fxx<0:\n",
    "            print(\"Local max since fxx = \", self.fxx, \"< 0 and D(a, b) =\", D, \"> 0\")\n",
    "        elif D<0:\n",
    "            print(crit_point, \" is a saddle point.\")\n",
    "        elif D==0:\n",
    "            print(\"No Conclusion\")"
   ]
  },
  {
   "cell_type": "code",
   "execution_count": 82,
   "metadata": {},
   "outputs": [
    {
     "name": "stdout",
     "output_type": "stream",
     "text": [
      "f(x, y, z) = \n"
     ]
    },
    {
     "data": {
      "text/latex": [
       "$\\displaystyle 2 x + 5 y$"
      ],
      "text/plain": [
       "2⋅x + 5⋅y"
      ]
     },
     "metadata": {},
     "output_type": "display_data"
    },
    {
     "name": "stdout",
     "output_type": "stream",
     "text": [
      "fx: \n"
     ]
    },
    {
     "data": {
      "text/latex": [
       "$\\displaystyle 2$"
      ],
      "text/plain": [
       "2"
      ]
     },
     "metadata": {},
     "output_type": "display_data"
    },
    {
     "name": "stdout",
     "output_type": "stream",
     "text": [
      "fy: \n"
     ]
    },
    {
     "data": {
      "text/latex": [
       "$\\displaystyle 5$"
      ],
      "text/plain": [
       "5"
      ]
     },
     "metadata": {},
     "output_type": "display_data"
    },
    {
     "name": "stdout",
     "output_type": "stream",
     "text": [
      "fz: \n"
     ]
    },
    {
     "data": {
      "text/latex": [
       "$\\displaystyle 0$"
      ],
      "text/plain": [
       "0"
      ]
     },
     "metadata": {},
     "output_type": "display_data"
    }
   ],
   "source": [
    "# PUT FUNCTION HERE:\n",
    "f = LangrangeFunction(2*x+5*y)\n",
    "f.showDerivatives()"
   ]
  },
  {
   "cell_type": "markdown",
   "metadata": {},
   "source": [
    "Now once you get a few critical points from the equations above, the next code block gets the type of point (local min/max, saddle)"
   ]
  },
  {
   "cell_type": "code",
   "execution_count": 71,
   "metadata": {},
   "outputs": [
    {
     "name": "stdout",
     "output_type": "stream",
     "text": [
      "D(a, b) = \n"
     ]
    },
    {
     "data": {
      "text/latex": [
       "$\\displaystyle -4$"
      ],
      "text/plain": [
       "-4"
      ]
     },
     "metadata": {},
     "output_type": "display_data"
    },
    {
     "name": "stdout",
     "output_type": "stream",
     "text": [
      "f(crit_point) = \n"
     ]
    },
    {
     "data": {
      "text/latex": [
       "$\\displaystyle 0$"
      ],
      "text/plain": [
       "0"
      ]
     },
     "metadata": {},
     "output_type": "display_data"
    },
    {
     "name": "stdout",
     "output_type": "stream",
     "text": [
      "CONCLUSION:\n",
      "[ 0 -1  0]  is a saddle point.\n"
     ]
    }
   ],
   "source": [
    "crit_point = np.array([0, -1, 0])\n",
    "f.checkPoint(crit_point)"
   ]
  },
  {
   "cell_type": "code",
   "execution_count": null,
   "metadata": {},
   "outputs": [],
   "source": []
  }
 ],
 "metadata": {
  "kernelspec": {
   "display_name": "Python 3",
   "language": "python",
   "name": "python3"
  },
  "language_info": {
   "codemirror_mode": {
    "name": "ipython",
    "version": 3
   },
   "file_extension": ".py",
   "mimetype": "text/x-python",
   "name": "python",
   "nbconvert_exporter": "python",
   "pygments_lexer": "ipython3",
   "version": "3.8.6"
  }
 },
 "nbformat": 4,
 "nbformat_minor": 4
}
