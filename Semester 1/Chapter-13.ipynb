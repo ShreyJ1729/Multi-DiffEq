{
 "cells": [
  {
   "cell_type": "markdown",
   "metadata": {},
   "source": [
    "# Tangent, Normal, Binormal, & Curvature\n",
    "scroll down"
   ]
  },
  {
   "cell_type": "code",
   "execution_count": 1,
   "metadata": {},
   "outputs": [],
   "source": [
    "# initialization stuff\n",
    "from sympy import *\n",
    "from sympy.physics.vector import ReferenceFrame, cross, dot\n",
    "import numpy as np\n",
    "init_printing()\n",
    "t = symbols(\"t\")\n",
    "C = ReferenceFrame(\"C\")\n",
    "class VectorValuedFunction():\n",
    "    def __init__(self, func):\n",
    "        self.r = np.dot(func, [C.x, C.y, C.z])\n",
    "        self.r1 = self.r.diff(t, C)\n",
    "        self.r2 = self.r1.diff(t, C)\n",
    "        self.r3 = self.r2.diff(t, C)\n",
    "        self.T = self.r1.normalize().simplify()\n",
    "        self.N = self.T.diff(t, C).simplify().normalize().simplify()\n",
    "        self.B = self.N.diff(t, C).simplify().normalize().simplify()\n",
    "        self.kappa = (cross(self.r1, self.r2).magnitude().simplify()/self.r1.magnitude().simplify()**3).simplify()\n",
    "\n",
    "    def showDerivatives(self):\n",
    "        print(\"1st, 2nd, & 3rd order derivatives of r:\")\n",
    "        display(\"r1: \", self.r1)\n",
    "        display(\"r2: \", self.r2)\n",
    "        display(\"r3: \", self.r3)\n",
    "\n",
    "    def showNormDerivatives(self):\n",
    "        print(\"1st, 2nd, & 3rd order (normalized) derivatives of r:\")\n",
    "        display(\"r1 norm: \", self.r1.normalize())\n",
    "        display(\"r2 norm: \", self.r2.normalize())\n",
    "        display(\"r3 norm: \", self.r3.normalize())\n",
    "    \n",
    "    def showTangent(self, t_val = None):\n",
    "        if t_val == None:\n",
    "            display(\"Tangent: \", self.T)\n",
    "        else:\n",
    "            display(\"Tangent at t = \" + str(t_val) + \":\", self.T.subs({t: t_val}))\n",
    "            \n",
    "    def showNormal(self, t_val = None):\n",
    "        if t_val == None:\n",
    "            display(\"Normal: \", self.N)\n",
    "        else:\n",
    "            display(\"Normal at t = \" + str(t_val) + \":\", self.N.subs({t: t_val}))\n",
    "            \n",
    "\n",
    "    def showBinormal(self, t_val = None):\n",
    "        if t_val == None:\n",
    "            display(\"Binormal: \", self.B)\n",
    "        else:\n",
    "            display(\"Binormal at t = \" + str(t_val) + \":\", self.B.subs({t: t_val}))\n",
    "            \n",
    "    def showCurvature(self, t_val = None):\n",
    "        if t_val == None:\n",
    "            display(\"Curvature: \", self.kappa)\n",
    "        else:\n",
    "            display(\"Curvature at t = \" + str(t_val) + \":\", self.kappa.subs({t: t_val}))\n",
    "            "
   ]
  },
  {
   "cell_type": "markdown",
   "metadata": {},
   "source": [
    "Enter your function in the first line below. For example, the default is $r(t) = (t))\\mathbf{i} + (t^2)\\mathbf{j} + (2t)\\mathbf{k}$"
   ]
  },
  {
   "cell_type": "code",
   "execution_count": 2,
   "metadata": {},
   "outputs": [
    {
     "output_type": "stream",
     "name": "stdout",
     "text": [
      "1st, 2nd, & 3rd order derivatives of r:\n"
     ]
    },
    {
     "output_type": "display_data",
     "data": {
      "text/plain": "'r1: '"
     },
     "metadata": {}
    },
    {
     "output_type": "display_data",
     "data": {
      "text/plain": "t⋅cos(t) c_x + t⋅sin(t) c_y",
      "image/png": "[encoded data removed]",
      "text/latex": "$\\displaystyle t \\operatorname{cos}\\left(t\\right)\\mathbf{\\hat{c}_x} + t \\operatorname{sin}\\left(t\\right)\\mathbf{\\hat{c}_y}$"
     },
     "metadata": {}
    },
    {
     "output_type": "display_data",
     "data": {
      "text/plain": "'r2: '"
     },
     "metadata": {}
    },
    {
     "output_type": "display_data",
     "data": {
      "text/plain": "(-t⋅sin(t) + cos(t)) c_x + (t⋅cos(t) + sin(t)) c_y",
      "image/png": "[encoded data removed]",
      "text/latex": "$\\displaystyle (- t \\operatorname{sin}\\left(t\\right) + \\operatorname{cos}\\left(t\\right))\\mathbf{\\hat{c}_x} + (t \\operatorname{cos}\\left(t\\right) + \\operatorname{sin}\\left(t\\right))\\mathbf{\\hat{c}_y}$"
     },
     "metadata": {}
    },
    {
     "output_type": "display_data",
     "data": {
      "text/plain": "'r3: '"
     },
     "metadata": {}
    },
    {
     "output_type": "display_data",
     "data": {
      "text/plain": "(-t⋅cos(t) - 2⋅sin(t)) c_x + (-t⋅sin(t) + 2⋅cos(t)) c_y",
      "image/png": "[encoded data removed]",
      "text/latex": "$\\displaystyle (- t \\operatorname{cos}\\left(t\\right) - 2 \\operatorname{sin}\\left(t\\right))\\mathbf{\\hat{c}_x} + (- t \\operatorname{sin}\\left(t\\right) + 2 \\operatorname{cos}\\left(t\\right))\\mathbf{\\hat{c}_y}$"
     },
     "metadata": {}
    },
    {
     "output_type": "stream",
     "name": "stdout",
     "text": [
      "1st, 2nd, & 3rd order (normalized) derivatives of r:\n"
     ]
    },
    {
     "output_type": "display_data",
     "data": {
      "text/plain": "'r1 norm: '"
     },
     "metadata": {}
    },
    {
     "output_type": "display_data",
     "data": {
      "text/plain": "          t⋅cos(t)                           t⋅sin(t)\n──────────────────────────── c_x + ──────────────────────────── c_y\n   _________________________          _________________________\n  ╱  2    2       2    2             ╱  2    2       2    2\n╲╱  t ⋅sin (t) + t ⋅cos (t)        ╲╱  t ⋅sin (t) + t ⋅cos (t)",
      "image/png": "[encoded data removed]",
      "text/latex": "$\\displaystyle \\frac{t \\operatorname{cos}\\left(t\\right)}{\\sqrt{t^{2} \\operatorname{sin}^{2}\\left(t\\right) + t^{2} \\operatorname{cos}^{2}\\left(t\\right)}}\\mathbf{\\hat{c}_x} + \\frac{t \\operatorname{sin}\\left(t\\right)}{\\sqrt{t^{2} \\operatorname{sin}^{2}\\left(t\\right) + t^{2} \\operatorname{cos}^{2}\\left(t\\right)}}\\mathbf{\\hat{c}_y}$"
     },
     "metadata": {}
    },
    {
     "output_type": "display_data",
     "data": {
      "text/plain": "'r2 norm: '"
     },
     "metadata": {}
    },
    {
     "output_type": "display_data",
     "data": {
      "text/plain": "                -t⋅sin(t) + cos(t)                                      t⋅cos(\n───────────────────────────────────────────────── c_x + ──────────────────────\n   ______________________________________________          ___________________\n  ╱                     2                      2          ╱\n╲╱  (-t⋅sin(t) + cos(t))  + (t⋅cos(t) + sin(t))         ╲╱  (-t⋅sin(t) + cos(t\n\nt) + sin(t)\n─────────────────────────── c_y\n___________________________\n  2                      2\n))  + (t⋅cos(t) + sin(t))",
      "image/png": "[encoded data removed]",
      "text/latex": "$\\displaystyle \\frac{- t \\operatorname{sin}\\left(t\\right) + \\operatorname{cos}\\left(t\\right)}{\\sqrt{\\left(- t \\operatorname{sin}\\left(t\\right) + \\operatorname{cos}\\left(t\\right)\\right)^{2} + \\left(t \\operatorname{cos}\\left(t\\right) + \\operatorname{sin}\\left(t\\right)\\right)^{2}}}\\mathbf{\\hat{c}_x} + \\frac{t \\operatorname{cos}\\left(t\\right) + \\operatorname{sin}\\left(t\\right)}{\\sqrt{\\left(- t \\operatorname{sin}\\left(t\\right) + \\operatorname{cos}\\left(t\\right)\\right)^{2} + \\left(t \\operatorname{cos}\\left(t\\right) + \\operatorname{sin}\\left(t\\right)\\right)^{2}}}\\mathbf{\\hat{c}_y}$"
     },
     "metadata": {}
    },
    {
     "output_type": "display_data",
     "data": {
      "text/plain": "'r3 norm: '"
     },
     "metadata": {}
    },
    {
     "output_type": "display_data",
     "data": {
      "text/plain": "                 -t⋅cos(t) - 2⋅sin(t)\n────────────────────────────────────────────────────── c_x + ─────────────────\n   ___________________________________________________          ______________\n  ╱                       2                         2          ╱\n╲╱  (-t⋅sin(t) + 2⋅cos(t))  + (-t⋅cos(t) - 2⋅sin(t))         ╲╱  (-t⋅sin(t) +\n\n-t⋅sin(t) + 2⋅cos(t)\n───────────────────────────────────── c_y\n_____________________________________\n         2                         2\n2⋅cos(t))  + (-t⋅cos(t) - 2⋅sin(t))",
      "image/png": "[encoded data removed]",
      "text/latex": "$\\displaystyle \\frac{- t \\operatorname{cos}\\left(t\\right) - 2 \\operatorname{sin}\\left(t\\right)}{\\sqrt{\\left(- t \\operatorname{sin}\\left(t\\right) + 2 \\operatorname{cos}\\left(t\\right)\\right)^{2} + \\left(- t \\operatorname{cos}\\left(t\\right) - 2 \\operatorname{sin}\\left(t\\right)\\right)^{2}}}\\mathbf{\\hat{c}_x} + \\frac{- t \\operatorname{sin}\\left(t\\right) + 2 \\operatorname{cos}\\left(t\\right)}{\\sqrt{\\left(- t \\operatorname{sin}\\left(t\\right) + 2 \\operatorname{cos}\\left(t\\right)\\right)^{2} + \\left(- t \\operatorname{cos}\\left(t\\right) - 2 \\operatorname{sin}\\left(t\\right)\\right)^{2}}}\\mathbf{\\hat{c}_y}$"
     },
     "metadata": {}
    },
    {
     "output_type": "display_data",
     "data": {
      "text/plain": "'Tangent: '"
     },
     "metadata": {}
    },
    {
     "output_type": "display_data",
     "data": {
      "text/plain": "t⋅cos(t)       t⋅sin(t)\n──────── c_x + ──────── c_y\n   ____           ____\n  ╱  2           ╱  2\n╲╱  t          ╲╱  t",
      "image/png": "[encoded data removed]",
      "text/latex": "$\\displaystyle \\frac{t \\operatorname{cos}\\left(t\\right)}{\\sqrt{t^{2}}}\\mathbf{\\hat{c}_x} + \\frac{t \\operatorname{sin}\\left(t\\right)}{\\sqrt{t^{2}}}\\mathbf{\\hat{c}_y}$"
     },
     "metadata": {}
    },
    {
     "output_type": "display_data",
     "data": {
      "text/plain": "'Normal: '"
     },
     "metadata": {}
    },
    {
     "output_type": "display_data",
     "data": {
      "text/plain": "-t⋅sin(t)        t⋅cos(t)\n────────── c_x + ──────── c_y\n    ____            ____\n   ╱  2            ╱  2\n ╲╱  t           ╲╱  t",
      "image/png": "[encoded data removed]",
      "text/latex": "$\\displaystyle -  \\frac{t \\operatorname{sin}\\left(t\\right)}{\\sqrt{t^{2}}}\\mathbf{\\hat{c}_x} + \\frac{t \\operatorname{cos}\\left(t\\right)}{\\sqrt{t^{2}}}\\mathbf{\\hat{c}_y}$"
     },
     "metadata": {}
    },
    {
     "output_type": "display_data",
     "data": {
      "text/plain": "'Binormal: '"
     },
     "metadata": {}
    },
    {
     "output_type": "display_data",
     "data": {
      "text/plain": "-t⋅cos(t)        -t⋅sin(t)\n────────── c_x + ────────── c_y\n    ____             ____\n   ╱  2             ╱  2\n ╲╱  t            ╲╱  t",
      "image/png": "[encoded data removed]",
      "text/latex": "$\\displaystyle -  \\frac{t \\operatorname{cos}\\left(t\\right)}{\\sqrt{t^{2}}}\\mathbf{\\hat{c}_x} -  \\frac{t \\operatorname{sin}\\left(t\\right)}{\\sqrt{t^{2}}}\\mathbf{\\hat{c}_y}$"
     },
     "metadata": {}
    },
    {
     "output_type": "display_data",
     "data": {
      "text/plain": "'Curvature: '"
     },
     "metadata": {}
    },
    {
     "output_type": "display_data",
     "data": {
      "text/plain": "   ____\n  ╱  4 \n╲╱  t  \n───────\n    3/2\n⎛ 2⎞   \n⎝t ⎠   ",
      "image/png": "[encoded data removed]",
      "text/latex": "$\\displaystyle \\frac{\\sqrt{t^{4}}}{\\left(t^{2}\\right)^{\\frac{3}{2}}}$"
     },
     "metadata": {}
    },
    {
     "output_type": "display_data",
     "data": {
      "text/plain": "'Binormal at t = 4:'"
     },
     "metadata": {}
    },
    {
     "output_type": "display_data",
     "data": {
      "text/plain": "-cos(4) c_x + -sin(4) c_y",
      "image/png": "[encoded data removed]",
      "text/latex": "$\\displaystyle -  \\operatorname{cos}\\left(4\\right)\\mathbf{\\hat{c}_x} -  \\operatorname{sin}\\left(4\\right)\\mathbf{\\hat{c}_y}$"
     },
     "metadata": {}
    },
    {
     "output_type": "display_data",
     "data": {
      "text/plain": "'Curvature at t = pi:'"
     },
     "metadata": {}
    },
    {
     "output_type": "display_data",
     "data": {
      "text/plain": "1\n─\nπ",
      "image/png": "[encoded data removed]",
      "text/latex": "$\\displaystyle \\frac{1}{\\pi}$"
     },
     "metadata": {}
    }
   ],
   "source": [
    "r = [cos(t)+t*sin(t), sin(t)-t*cos(t), 0]\n",
    "\n",
    "r = VectorValuedFunction(r)\n",
    "r.showDerivatives()\n",
    "r.showNormDerivatives()\n",
    "r.showTangent()\n",
    "r.showNormal()\n",
    "r.showBinormal()\n",
    "r.showCurvature()\n",
    "\n",
    "\n",
    "# You can also substitute in values for t like this:\n",
    "r.showBinormal(4)\n",
    "r.showCurvature(pi)"
   ]
  },
  {
   "cell_type": "code",
   "execution_count": null,
   "metadata": {},
   "outputs": [],
   "source": []
  }
 ],
 "metadata": {
  "kernelspec": {
   "name": "python3",
   "display_name": "Python 3.8.5 64-bit ('base': conda)",
   "metadata": {
    "interpreter": {
     "hash": "9fc3f1988ad825662799a46103942a67a99b1357398c7557b0b1ce6b28e89e64"
    }
   }
  },
  "language_info": {
   "codemirror_mode": {
    "name": "ipython",
    "version": 3
   },
   "file_extension": ".py",
   "mimetype": "text/x-python",
   "name": "python",
   "nbconvert_exporter": "python",
   "pygments_lexer": "ipython3",
   "version": "3.8.5-final"
  }
 },
 "nbformat": 4,
 "nbformat_minor": 4
}