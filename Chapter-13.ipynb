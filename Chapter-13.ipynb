{
 "cells": [
  {
   "cell_type": "markdown",
   "metadata": {},
   "source": [
    "# Tangent, Normal, Binormal, & Curvature\n",
    "scroll down"
   ]
  },
  {
   "cell_type": "code",
   "execution_count": 50,
   "metadata": {},
   "outputs": [],
   "source": [
    "# initialization stuff\n",
    "from sympy import *\n",
    "from sympy.physics.vector import ReferenceFrame, cross, dot\n",
    "import numpy as np\n",
    "init_printing()\n",
    "t = symbols(\"t\")\n",
    "C = ReferenceFrame(\"C\")\n",
    "class VectorValuedFunction():\n",
    "    def __init__(self, func):\n",
    "        self.r = np.dot(func, [C.x, C.y, C.z])\n",
    "        self.r1 = self.r.diff(t, C)\n",
    "        self.r2 = self.r1.diff(t, C)\n",
    "        self.r3 = self.r2.diff(t, C)\n",
    "        self.T = self.r1.normalize().simplify()\n",
    "        self.N = self.T.diff(t, C).simplify().normalize().simplify()\n",
    "        self.B = self.N.diff(t, C).simplify().normalize().simplify()\n",
    "        self.kappa = (cross(self.r1, self.r2).magnitude().simplify()/self.r1.magnitude().simplify()**3).simplify()\n",
    "\n",
    "    def showDerivatives(self):\n",
    "        print(\"1st, 2nd, & 3rd order derivatives of r:\")\n",
    "        display(\"r1: \", self.r1)\n",
    "        display(\"r2: \", self.r2)\n",
    "        display(\"r3: \", self.r3)\n",
    "\n",
    "    def showNormDerivatives(self):\n",
    "        print(\"1st, 2nd, & 3rd order (normalized) derivatives of r:\")\n",
    "        display(\"r1 norm: \", self.r1.normalize())\n",
    "        display(\"r2 norm: \", self.r2.normalize())\n",
    "        display(\"r3 norm: \", self.r3.normalize())\n",
    "    \n",
    "    def showTangent(self, t_val = None):\n",
    "        if t_val == None:\n",
    "            display(\"Tangent: \", self.T)\n",
    "        else:\n",
    "            display(\"Tangent at t = \" + str(t_val) + \":\", self.T.subs({t: t_val}))\n",
    "            \n",
    "    def showNormal(self, t_val = None):\n",
    "        if t_val == None:\n",
    "            display(\"Normal: \", self.N)\n",
    "        else:\n",
    "            display(\"Normal at t = \" + str(t_val) + \":\", self.N.subs({t: t_val}))\n",
    "            \n",
    "\n",
    "    def showBinormal(self, t_val = None):\n",
    "        if t_val == None:\n",
    "            display(\"Binormal: \", self.B)\n",
    "        else:\n",
    "            display(\"Binormal at t = \" + str(t_val) + \":\", self.B.subs({t: t_val}))\n",
    "            \n",
    "    def showCurvature(self, t_val = None):\n",
    "        if t_val == None:\n",
    "            display(\"Curvature: \", self.kappa)\n",
    "        else:\n",
    "            display(\"Curvature at t = \" + str(t_val) + \":\", self.kappa.subs({t: t_val}))\n",
    "            "
   ]
  },
  {
   "cell_type": "markdown",
   "metadata": {},
   "source": [
    "Enter your function in the first line below. For example, the default is $r(t) = (t))\\mathbf{i} + (t^2)\\mathbf{j} + (2t)\\mathbf{k}$"
   ]
  },
  {
   "cell_type": "code",
   "execution_count": 53,
   "metadata": {},
   "outputs": [
    {
     "name": "stdout",
     "output_type": "stream",
     "text": [
      "1st, 2nd, & 3rd order derivatives of r:\n"
     ]
    },
    {
     "data": {
      "text/plain": [
       "'r1: '"
      ]
     },
     "metadata": {},
     "output_type": "display_data"
    },
    {
     "data": {
      "text/latex": [
       "$\\displaystyle \\mathbf{\\hat{c}_x} + 2 t\\mathbf{\\hat{c}_y} + 2\\mathbf{\\hat{c}_z}$"
      ],
      "text/plain": [
       "c_x + 2⋅t c_y + 2 c_z"
      ]
     },
     "metadata": {},
     "output_type": "display_data"
    },
    {
     "data": {
      "text/plain": [
       "'r2: '"
      ]
     },
     "metadata": {},
     "output_type": "display_data"
    },
    {
     "data": {
      "text/latex": [
       "$\\displaystyle 2\\mathbf{\\hat{c}_y}$"
      ],
      "text/plain": [
       "2 c_y"
      ]
     },
     "metadata": {},
     "output_type": "display_data"
    },
    {
     "data": {
      "text/plain": [
       "'r3: '"
      ]
     },
     "metadata": {},
     "output_type": "display_data"
    },
    {
     "data": {
      "text/latex": [
       "$\\displaystyle 0$"
      ],
      "text/plain": [
       "0"
      ]
     },
     "metadata": {},
     "output_type": "display_data"
    },
    {
     "name": "stdout",
     "output_type": "stream",
     "text": [
      "1st, 2nd, & 3rd order (normalized) derivatives of r:\n"
     ]
    },
    {
     "data": {
      "text/plain": [
       "'r1 norm: '"
      ]
     },
     "metadata": {},
     "output_type": "display_data"
    },
    {
     "data": {
      "text/latex": [
       "$\\displaystyle \\frac{1}{\\sqrt{4 t^{2} + 5}}\\mathbf{\\hat{c}_x} + \\frac{2 t}{\\sqrt{4 t^{2} + 5}}\\mathbf{\\hat{c}_y} + \\frac{2}{\\sqrt{4 t^{2} + 5}}\\mathbf{\\hat{c}_z}$"
      ],
      "text/plain": [
       "      1                  2⋅t                  2\n",
       "───────────── c_x + ───────────── c_y + ───────────── c_z\n",
       "   __________          __________          __________\n",
       "  ╱    2              ╱    2              ╱    2\n",
       "╲╱  4⋅t  + 5        ╲╱  4⋅t  + 5        ╲╱  4⋅t  + 5"
      ]
     },
     "metadata": {},
     "output_type": "display_data"
    },
    {
     "data": {
      "text/plain": [
       "'r2 norm: '"
      ]
     },
     "metadata": {},
     "output_type": "display_data"
    },
    {
     "data": {
      "text/latex": [
       "$\\displaystyle \\mathbf{\\hat{c}_y}$"
      ],
      "text/plain": [
       "c_y"
      ]
     },
     "metadata": {},
     "output_type": "display_data"
    },
    {
     "data": {
      "text/plain": [
       "'r3 norm: '"
      ]
     },
     "metadata": {},
     "output_type": "display_data"
    },
    {
     "data": {
      "text/latex": [
       "$\\displaystyle 0$"
      ],
      "text/plain": [
       "0"
      ]
     },
     "metadata": {},
     "output_type": "display_data"
    },
    {
     "data": {
      "text/plain": [
       "'Tangent: '"
      ]
     },
     "metadata": {},
     "output_type": "display_data"
    },
    {
     "data": {
      "text/latex": [
       "$\\displaystyle \\frac{1}{\\sqrt{4 t^{2} + 5}}\\mathbf{\\hat{c}_x} + \\frac{2 t}{\\sqrt{4 t^{2} + 5}}\\mathbf{\\hat{c}_y} + \\frac{2}{\\sqrt{4 t^{2} + 5}}\\mathbf{\\hat{c}_z}$"
      ],
      "text/plain": [
       "      1                  2⋅t                  2\n",
       "───────────── c_x + ───────────── c_y + ───────────── c_z\n",
       "   __________          __________          __________\n",
       "  ╱    2              ╱    2              ╱    2\n",
       "╲╱  4⋅t  + 5        ╲╱  4⋅t  + 5        ╲╱  4⋅t  + 5"
      ]
     },
     "metadata": {},
     "output_type": "display_data"
    },
    {
     "data": {
      "text/plain": [
       "'Normal: '"
      ]
     },
     "metadata": {},
     "output_type": "display_data"
    },
    {
     "data": {
      "text/latex": [
       "$\\displaystyle -  \\frac{2 \\sqrt{5} t}{5 \\left(4 t^{2} + 5\\right)^{\\frac{3}{2}} \\sqrt{\\frac{1}{\\left(4 t^{2} + 5\\right)^{2}}}}\\mathbf{\\hat{c}_x} + \\frac{\\sqrt{5}}{\\left(4 t^{2} + 5\\right)^{\\frac{3}{2}} \\sqrt{\\frac{1}{\\left(4 t^{2} + 5\\right)^{2}}}}\\mathbf{\\hat{c}_y} -  \\frac{4 \\sqrt{5} t}{5 \\left(4 t^{2} + 5\\right)^{\\frac{3}{2}} \\sqrt{\\frac{1}{\\left(4 t^{2} + 5\\right)^{2}}}}\\mathbf{\\hat{c}_z}$"
      ],
      "text/plain": [
       "              -2⋅√5⋅t                                     √5\n",
       "─────────────────────────────────── c_x + ───────────────────────────────── c_\n",
       "            3/2       _____________                 3/2       _____________\n",
       "  ⎛   2    ⎞         ╱      1             ⎛   2    ⎞         ╱      1\n",
       "5⋅⎝4⋅t  + 5⎠   ⋅    ╱  ───────────        ⎝4⋅t  + 5⎠   ⋅    ╱  ───────────\n",
       "                   ╱             2                         ╱             2\n",
       "                  ╱    ⎛   2    ⎞                         ╱    ⎛   2    ⎞\n",
       "                ╲╱     ⎝4⋅t  + 5⎠                       ╲╱     ⎝4⋅t  + 5⎠\n",
       "\n",
       "                  -4⋅√5⋅t\n",
       "y + ─────────────────────────────────── c_z\n",
       "                3/2       _____________\n",
       "      ⎛   2    ⎞         ╱      1\n",
       "    5⋅⎝4⋅t  + 5⎠   ⋅    ╱  ───────────\n",
       "                       ╱             2\n",
       "                      ╱    ⎛   2    ⎞\n",
       "                    ╲╱     ⎝4⋅t  + 5⎠"
      ]
     },
     "metadata": {},
     "output_type": "display_data"
    },
    {
     "data": {
      "text/plain": [
       "'Binormal: '"
      ]
     },
     "metadata": {},
     "output_type": "display_data"
    },
    {
     "data": {
      "text/latex": [
       "$\\displaystyle -  \\frac{1}{\\sqrt{4 t^{2} + 5}}\\mathbf{\\hat{c}_x} -  \\frac{2 t}{\\sqrt{4 t^{2} + 5}}\\mathbf{\\hat{c}_y} -  \\frac{2}{\\sqrt{4 t^{2} + 5}}\\mathbf{\\hat{c}_z}$"
      ],
      "text/plain": [
       "     -1                 -2⋅t                 -2\n",
       "───────────── c_x + ───────────── c_y + ───────────── c_z\n",
       "   __________          __________          __________\n",
       "  ╱    2              ╱    2              ╱    2\n",
       "╲╱  4⋅t  + 5        ╲╱  4⋅t  + 5        ╲╱  4⋅t  + 5"
      ]
     },
     "metadata": {},
     "output_type": "display_data"
    },
    {
     "data": {
      "text/plain": [
       "'Curvature: '"
      ]
     },
     "metadata": {},
     "output_type": "display_data"
    },
    {
     "data": {
      "text/latex": [
       "$\\displaystyle \\frac{2 \\sqrt{5}}{\\left(4 t^{2} + 5\\right)^{\\frac{3}{2}}}$"
      ],
      "text/plain": [
       "     2⋅√5    \n",
       "─────────────\n",
       "          3/2\n",
       "⎛   2    ⎞   \n",
       "⎝4⋅t  + 5⎠   "
      ]
     },
     "metadata": {},
     "output_type": "display_data"
    }
   ],
   "source": [
    "r = [t, t**2, 2*t]\n",
    "\n",
    "r = VectorValuedFunction(r)\n",
    "r.showDerivatives()\n",
    "r.showNormDerivatives()\n",
    "r.showTangent()\n",
    "r.showNormal()\n",
    "r.showBinormal()\n",
    "r.showCurvature()\n",
    "\n",
    "\n",
    "# You can also substitute in values for t like this:\n",
    "r.showBinormal(4)\n",
    "r.showCurvature(pi)"
   ]
  }
 ],
 "metadata": {
  "kernelspec": {
   "display_name": "Python 3",
   "language": "python",
   "name": "python3"
  },
  "language_info": {
   "codemirror_mode": {
    "name": "ipython",
    "version": 3
   },
   "file_extension": ".py",
   "mimetype": "text/x-python",
   "name": "python",
   "nbconvert_exporter": "python",
   "pygments_lexer": "ipython3",
   "version": "3.8.6"
  }
 },
 "nbformat": 4,
 "nbformat_minor": 4
}
