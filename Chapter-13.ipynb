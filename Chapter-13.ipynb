{
 "cells": [
  {
   "cell_type": "markdown",
   "metadata": {},
   "source": [
    "# Calculating Tangent, Normal, Binormal, & Curvature"
   ]
  },
  {
   "cell_type": "code",
   "execution_count": 2,
   "metadata": {},
   "outputs": [],
   "source": [
    "from sympy import *\n",
    "from sympy.physics.vector import ReferenceFrame, cross, dot\n",
    "import numpy as np\n",
    "init_printing()\n",
    "t = symbols(\"t\")"
   ]
  },
  {
   "cell_type": "markdown",
   "metadata": {},
   "source": [
    "Change the \"r = np.dot(...)\" line below by entering your own function (in terms of t) between the first pair of square brackets.\n",
    "\n",
    "For example, the default function is the same as $r(t) = r\\mathbf{i} + t^2\\mathbf{j} + 2t\\mathbf{k}$"
   ]
  },
  {
   "cell_type": "code",
   "execution_count": 12,
   "metadata": {},
   "outputs": [
    {
     "data": {
      "text/plain": [
       "'r1: '"
      ]
     },
     "metadata": {},
     "output_type": "display_data"
    },
    {
     "data": {
      "text/latex": [
       "$\\displaystyle \\mathbf{\\hat{c}_x} + 2 t\\mathbf{\\hat{c}_y} + 2\\mathbf{\\hat{c}_z}$"
      ],
      "text/plain": [
       "c_x + 2⋅t c_y + 2 c_z"
      ]
     },
     "metadata": {},
     "output_type": "display_data"
    },
    {
     "data": {
      "text/plain": [
       "'r2: '"
      ]
     },
     "metadata": {},
     "output_type": "display_data"
    },
    {
     "data": {
      "text/latex": [
       "$\\displaystyle 2\\mathbf{\\hat{c}_y}$"
      ],
      "text/plain": [
       "2 c_y"
      ]
     },
     "metadata": {},
     "output_type": "display_data"
    },
    {
     "data": {
      "text/plain": [
       "'r3: '"
      ]
     },
     "metadata": {},
     "output_type": "display_data"
    },
    {
     "data": {
      "text/latex": [
       "$\\displaystyle 0$"
      ],
      "text/plain": [
       "0"
      ]
     },
     "metadata": {},
     "output_type": "display_data"
    },
    {
     "data": {
      "text/plain": [
       "'r1 norm: '"
      ]
     },
     "metadata": {},
     "output_type": "display_data"
    },
    {
     "data": {
      "text/latex": [
       "$\\displaystyle \\frac{1}{\\sqrt{4 t^{2} + 5}}\\mathbf{\\hat{c}_x} + \\frac{2 t}{\\sqrt{4 t^{2} + 5}}\\mathbf{\\hat{c}_y} + \\frac{2}{\\sqrt{4 t^{2} + 5}}\\mathbf{\\hat{c}_z}$"
      ],
      "text/plain": [
       "      1                  2⋅t                  2\n",
       "───────────── c_x + ───────────── c_y + ───────────── c_z\n",
       "   __________          __________          __________\n",
       "  ╱    2              ╱    2              ╱    2\n",
       "╲╱  4⋅t  + 5        ╲╱  4⋅t  + 5        ╲╱  4⋅t  + 5"
      ]
     },
     "metadata": {},
     "output_type": "display_data"
    },
    {
     "data": {
      "text/plain": [
       "'r2 norm: '"
      ]
     },
     "metadata": {},
     "output_type": "display_data"
    },
    {
     "data": {
      "text/latex": [
       "$\\displaystyle \\mathbf{\\hat{c}_y}$"
      ],
      "text/plain": [
       "c_y"
      ]
     },
     "metadata": {},
     "output_type": "display_data"
    },
    {
     "data": {
      "text/plain": [
       "'r3 norm: '"
      ]
     },
     "metadata": {},
     "output_type": "display_data"
    },
    {
     "data": {
      "text/latex": [
       "$\\displaystyle 0$"
      ],
      "text/plain": [
       "0"
      ]
     },
     "metadata": {},
     "output_type": "display_data"
    }
   ],
   "source": [
    "C = ReferenceFrame(\"C\")\n",
    "\n",
    "# ENTER VECTOR FUNCTION BELOW\n",
    "r = np.dot([t, t**2, 2*t], [C.x, C.y, C.z])\n",
    "\n",
    "r1 = r.diff(t, C)\n",
    "r2 = r1.diff(t, C)\n",
    "r3 = r2.diff(t, C)\n",
    "display(\"r1: \", r1)\n",
    "display(\"r2: \", r2)\n",
    "display(\"r3: \", r3)\n",
    "display(\"r1 norm: \", r1.normalize())\n",
    "display(\"r2 norm: \", r2.normalize())\n",
    "display(\"r3 norm: \", r3.normalize())"
   ]
  },
  {
   "cell_type": "code",
   "execution_count": 23,
   "metadata": {},
   "outputs": [
    {
     "data": {
      "text/plain": [
       "'Tangent: '"
      ]
     },
     "metadata": {},
     "output_type": "display_data"
    },
    {
     "data": {
      "text/latex": [
       "$\\displaystyle \\frac{1}{\\sqrt{4 t^{2} + 5}}\\mathbf{\\hat{c}_x} + \\frac{2 t}{\\sqrt{4 t^{2} + 5}}\\mathbf{\\hat{c}_y} + \\frac{2}{\\sqrt{4 t^{2} + 5}}\\mathbf{\\hat{c}_z}$"
      ],
      "text/plain": [
       "      1                  2⋅t                  2\n",
       "───────────── c_x + ───────────── c_y + ───────────── c_z\n",
       "   __________          __________          __________\n",
       "  ╱    2              ╱    2              ╱    2\n",
       "╲╱  4⋅t  + 5        ╲╱  4⋅t  + 5        ╲╱  4⋅t  + 5"
      ]
     },
     "metadata": {},
     "output_type": "display_data"
    },
    {
     "data": {
      "text/plain": [
       "'Curvature: '"
      ]
     },
     "metadata": {},
     "output_type": "display_data"
    },
    {
     "data": {
      "text/latex": [
       "$\\displaystyle \\frac{2 \\sqrt{5}}{\\left(4 t^{2} + 5\\right)^{\\frac{3}{2}}}$"
      ],
      "text/plain": [
       "     2⋅√5    \n",
       "─────────────\n",
       "          3/2\n",
       "⎛   2    ⎞   \n",
       "⎝4⋅t  + 5⎠   "
      ]
     },
     "metadata": {},
     "output_type": "display_data"
    }
   ],
   "source": [
    "T = r1.normalize().simplify()\n",
    "display(\"Tangent: \", T)\n",
    "kappa = (cross(r1, r2).magnitude().simplify()/r1.magnitude().simplify()**3).simplify()\n",
    "display(\"Curvature: \", kappa)"
   ]
  },
  {
   "cell_type": "code",
   "execution_count": 24,
   "metadata": {},
   "outputs": [
    {
     "data": {
      "text/plain": [
       "'Normal:'"
      ]
     },
     "metadata": {},
     "output_type": "display_data"
    },
    {
     "data": {
      "text/latex": [
       "$\\displaystyle -  \\frac{2 \\sqrt{5} t}{5 \\left(4 t^{2} + 5\\right)^{\\frac{3}{2}} \\sqrt{\\frac{1}{\\left(4 t^{2} + 5\\right)^{2}}}}\\mathbf{\\hat{c}_x} + \\frac{\\sqrt{5}}{\\left(4 t^{2} + 5\\right)^{\\frac{3}{2}} \\sqrt{\\frac{1}{\\left(4 t^{2} + 5\\right)^{2}}}}\\mathbf{\\hat{c}_y} -  \\frac{4 \\sqrt{5} t}{5 \\left(4 t^{2} + 5\\right)^{\\frac{3}{2}} \\sqrt{\\frac{1}{\\left(4 t^{2} + 5\\right)^{2}}}}\\mathbf{\\hat{c}_z}$"
      ],
      "text/plain": [
       "              -2⋅√5⋅t                                     √5\n",
       "─────────────────────────────────── c_x + ───────────────────────────────── c_\n",
       "            3/2       _____________                 3/2       _____________\n",
       "  ⎛   2    ⎞         ╱      1             ⎛   2    ⎞         ╱      1\n",
       "5⋅⎝4⋅t  + 5⎠   ⋅    ╱  ───────────        ⎝4⋅t  + 5⎠   ⋅    ╱  ───────────\n",
       "                   ╱             2                         ╱             2\n",
       "                  ╱    ⎛   2    ⎞                         ╱    ⎛   2    ⎞\n",
       "                ╲╱     ⎝4⋅t  + 5⎠                       ╲╱     ⎝4⋅t  + 5⎠\n",
       "\n",
       "                  -4⋅√5⋅t\n",
       "y + ─────────────────────────────────── c_z\n",
       "                3/2       _____________\n",
       "      ⎛   2    ⎞         ╱      1\n",
       "    5⋅⎝4⋅t  + 5⎠   ⋅    ╱  ───────────\n",
       "                       ╱             2\n",
       "                      ╱    ⎛   2    ⎞\n",
       "                    ╲╱     ⎝4⋅t  + 5⎠"
      ]
     },
     "metadata": {},
     "output_type": "display_data"
    }
   ],
   "source": [
    "N = T.diff(t, C).simplify().normalize().simplify()\n",
    "display(\"Normal:\", N)"
   ]
  },
  {
   "cell_type": "code",
   "execution_count": 26,
   "metadata": {},
   "outputs": [
    {
     "data": {
      "text/plain": [
       "'Binormal:'"
      ]
     },
     "metadata": {},
     "output_type": "display_data"
    },
    {
     "data": {
      "text/latex": [
       "$\\displaystyle -  \\frac{1}{\\sqrt{4 t^{2} + 5}}\\mathbf{\\hat{c}_x} -  \\frac{2 t}{\\sqrt{4 t^{2} + 5}}\\mathbf{\\hat{c}_y} -  \\frac{2}{\\sqrt{4 t^{2} + 5}}\\mathbf{\\hat{c}_z}$"
      ],
      "text/plain": [
       "     -1                 -2⋅t                 -2\n",
       "───────────── c_x + ───────────── c_y + ───────────── c_z\n",
       "   __________          __________          __________\n",
       "  ╱    2              ╱    2              ╱    2\n",
       "╲╱  4⋅t  + 5        ╲╱  4⋅t  + 5        ╲╱  4⋅t  + 5"
      ]
     },
     "metadata": {},
     "output_type": "display_data"
    }
   ],
   "source": [
    "B = N.diff(t, C).simplify().normalize().simplify()\n",
    "display(\"Binormal:\", B)"
   ]
  },
  {
   "cell_type": "markdown",
   "metadata": {},
   "source": [
    "## Substituting Values\n",
    "In this next code cell, edit \"t_val = ...\" with whatever value you want to substitute in for t."
   ]
  },
  {
   "cell_type": "code",
   "execution_count": 29,
   "metadata": {},
   "outputs": [
    {
     "name": "stdout",
     "output_type": "stream",
     "text": [
      "substituted t = 1\n",
      "\n",
      "Tangent: \n"
     ]
    },
    {
     "data": {
      "text/latex": [
       "$\\displaystyle \\frac{1}{3}\\mathbf{\\hat{c}_x} + \\frac{2}{3}\\mathbf{\\hat{c}_y} + \\frac{2}{3}\\mathbf{\\hat{c}_z}$"
      ],
      "text/plain": [
       "1/3 c_x + 2/3 c_y + 2/3 c_z"
      ]
     },
     "metadata": {},
     "output_type": "display_data"
    },
    {
     "name": "stdout",
     "output_type": "stream",
     "text": [
      "Normal: \n"
     ]
    },
    {
     "data": {
      "text/latex": [
       "$\\displaystyle -  \\frac{2 \\sqrt{5}}{15}\\mathbf{\\hat{c}_x} + \\frac{\\sqrt{5}}{3}\\mathbf{\\hat{c}_y} -  \\frac{4 \\sqrt{5}}{15}\\mathbf{\\hat{c}_z}$"
      ],
      "text/plain": [
       "-2⋅√5        √5       -4⋅√5\n",
       "────── c_x + ── c_y + ────── c_z\n",
       "  15         3          15"
      ]
     },
     "metadata": {},
     "output_type": "display_data"
    },
    {
     "name": "stdout",
     "output_type": "stream",
     "text": [
      "Binormal: \n"
     ]
    },
    {
     "data": {
      "text/latex": [
       "$\\displaystyle -  \\frac{2 \\sqrt{5}}{15}\\mathbf{\\hat{c}_x} + \\frac{\\sqrt{5}}{3}\\mathbf{\\hat{c}_y} -  \\frac{4 \\sqrt{5}}{15}\\mathbf{\\hat{c}_z}$"
      ],
      "text/plain": [
       "-2⋅√5        √5       -4⋅√5\n",
       "────── c_x + ── c_y + ────── c_z\n",
       "  15         3          15"
      ]
     },
     "metadata": {},
     "output_type": "display_data"
    },
    {
     "name": "stdout",
     "output_type": "stream",
     "text": [
      "Curvature: \n"
     ]
    },
    {
     "data": {
      "text/latex": [
       "$\\displaystyle \\frac{2 \\sqrt{5}}{27}$"
      ],
      "text/plain": [
       "2⋅√5\n",
       "────\n",
       " 27 "
      ]
     },
     "metadata": {},
     "output_type": "display_data"
    }
   ],
   "source": [
    "t_val = 1\n",
    "print(\"substituted t = \" + str(t_val))\n",
    "print()\n",
    "\n",
    "print(\"Tangent: \")\n",
    "display(T.subs({t: t_val}))\n",
    "\n",
    "print(\"Normal: \")\n",
    "display(N.subs({t: t_val}))\n",
    "\n",
    "print(\"Binormal: \")\n",
    "display(N.subs({t: t_val}))\n",
    "\n",
    "print(\"Curvature: \")\n",
    "display(kappa.subs({t: t_val}))"
   ]
  },
  {
   "cell_type": "code",
   "execution_count": null,
   "metadata": {},
   "outputs": [],
   "source": []
  }
 ],
 "metadata": {
  "kernelspec": {
   "display_name": "Python 3",
   "language": "python",
   "name": "python3"
  },
  "language_info": {
   "codemirror_mode": {
    "name": "ipython",
    "version": 3
   },
   "file_extension": ".py",
   "mimetype": "text/x-python",
   "name": "python",
   "nbconvert_exporter": "python",
   "pygments_lexer": "ipython3",
   "version": "3.8.6"
  }
 },
 "nbformat": 4,
 "nbformat_minor": 4
}
